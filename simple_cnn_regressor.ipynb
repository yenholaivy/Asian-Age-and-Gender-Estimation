{
 "cells": [
  {
   "cell_type": "code",
   "execution_count": 1,
   "metadata": {},
   "outputs": [],
   "source": [
    "import pandas as pd\n",
    "import numpy as np\n",
    "import matplotlib.pyplot as plt\n",
    "plt.style.use('ggplot')\n",
    "\n",
    "import tensorflow as tf\n",
    "from tensorflow import keras\n",
    "from tensorflow.keras.layers import Convolution2D, Dense, Dropout, Flatten, MaxPooling2D\n",
    "from tensorflow.keras.layers import GlobalAveragePooling2D,ZeroPadding2D\n",
    "from tensorflow.keras.models import Sequential\n",
    "from tensorflow.keras.applications.xception import preprocess_input\n",
    "from tensorflow.keras.preprocessing.image import ImageDataGenerator\n",
    "from tensorflow.keras.callbacks import EarlyStopping, ModelCheckpoint\n",
    "\n",
    "from sklearn.model_selection import train_test_split\n",
    "from sklearn.metrics import accuracy_score, precision_score, recall_score\n",
    "from sklearn.metrics import confusion_matrix, ConfusionMatrixDisplay"
   ]
  },
  {
   "cell_type": "code",
   "execution_count": 2,
   "metadata": {},
   "outputs": [
    {
     "name": "stdout",
     "output_type": "stream",
     "text": [
      "Found 131541 images belonging to 26 classes.\n",
      "Found 32877 images belonging to 26 classes.\n"
     ]
    }
   ],
   "source": [
    "imggen = ImageDataGenerator(preprocessing_function=preprocess_input, rescale=1/255.0,validation_split=0.2)\n",
    "\n",
    "batch_size=32\n",
    "filepath = '/home/ubuntu/data/AFAD-Full/AFAD_age'\n",
    "train_datagen_age = imggen.flow_from_directory(filepath, target_size=(100,100),batch_size=batch_size, \n",
    "                                           class_mode = 'sparse',subset='training')\n",
    "validation_datagen_age = imggen.flow_from_directory(filepath, target_size=(100,100), batch_size=batch_size\n",
    "                                                , class_mode = 'sparse', subset='validation')"
   ]
  },
  {
   "cell_type": "code",
   "execution_count": 3,
   "metadata": {},
   "outputs": [
    {
     "name": "stdout",
     "output_type": "stream",
     "text": [
      "Model: \"sequential\"\n",
      "_________________________________________________________________\n",
      "Layer (type)                 Output Shape              Param #   \n",
      "=================================================================\n",
      "conv2d (Conv2D)              (None, 100, 100, 64)      1792      \n",
      "_________________________________________________________________\n",
      "max_pooling2d (MaxPooling2D) (None, 50, 50, 64)        0         \n",
      "_________________________________________________________________\n",
      "conv2d_1 (Conv2D)            (None, 50, 50, 32)        18464     \n",
      "_________________________________________________________________\n",
      "max_pooling2d_1 (MaxPooling2 (None, 25, 25, 32)        0         \n",
      "_________________________________________________________________\n",
      "dropout (Dropout)            (None, 25, 25, 32)        0         \n",
      "_________________________________________________________________\n",
      "flatten (Flatten)            (None, 20000)             0         \n",
      "_________________________________________________________________\n",
      "dense (Dense)                (None, 128)               2560128   \n",
      "_________________________________________________________________\n",
      "dense_1 (Dense)              (None, 64)                8256      \n",
      "_________________________________________________________________\n",
      "dropout_1 (Dropout)          (None, 64)                0         \n",
      "_________________________________________________________________\n",
      "dense_2 (Dense)              (None, 1)                 65        \n",
      "=================================================================\n",
      "Total params: 2,588,705\n",
      "Trainable params: 2,588,705\n",
      "Non-trainable params: 0\n",
      "_________________________________________________________________\n"
     ]
    }
   ],
   "source": [
    "age_model = Sequential()\n",
    "age_model.add(Convolution2D(filters = 64, kernel_size = (3, 3), \n",
    "      padding = 'same',input_shape=(100,100,3), activation = 'relu'))\n",
    "age_model.add(MaxPooling2D(pool_size= (2, 2)))\n",
    "age_model.add(Convolution2D(filters = 32, kernel_size = (3, 3), \n",
    "                              padding = 'same', activation = 'relu'))\n",
    "age_model.add(MaxPooling2D(pool_size= (2, 2)))\n",
    "age_model.add(Dropout(0.5))\n",
    "age_model.add(Flatten())\n",
    "age_model.add(Dense(128, activation = 'relu'))\n",
    "age_model.add(Dense(64, activation = 'relu'))\n",
    "age_model.add(Dropout(0.5))\n",
    "age_model.add(Dense(1, activation = 'linear'))\n",
    "\n",
    "opt = keras.optimizers.Adam(learning_rate=0.0003)\n",
    "age_model.compile(optimizer=opt, \n",
    "                  loss='mean_absolute_error', metrics=['mse'])\n",
    "\n",
    "age_model.summary()"
   ]
  },
  {
   "cell_type": "code",
   "execution_count": 4,
   "metadata": {},
   "outputs": [],
   "source": [
    "checkpoint = ModelCheckpoint('age_estimator.h5', monitor = 'val_loss', \n",
    "                             mode = 'min', save_best_only = True, verbose = 1)\n",
    "\n",
    "earlystopping = EarlyStopping(monitor= 'val_loss', patience = 15, \n",
    "                              verbose = 1, restore_best_weights= True)"
   ]
  },
  {
   "cell_type": "code",
   "execution_count": 5,
   "metadata": {},
   "outputs": [
    {
     "name": "stdout",
     "output_type": "stream",
     "text": [
      "WARNING:tensorflow:From <ipython-input-5-34d6fd353f41>:2: Model.fit_generator (from tensorflow.python.keras.engine.training) is deprecated and will be removed in a future version.\n",
      "Instructions for updating:\n",
      "Please use Model.fit, which supports generators.\n",
      "WARNING:tensorflow:sample_weight modes were coerced from\n",
      "  ...\n",
      "    to  \n",
      "  ['...']\n",
      "WARNING:tensorflow:sample_weight modes were coerced from\n",
      "  ...\n",
      "    to  \n",
      "  ['...']\n",
      "Train for 4111 steps, validate for 1028 steps\n",
      "Epoch 1/50\n",
      "\n",
      "Epoch 00001: val_loss improved from inf to 4.62368, saving model to age_estimator.h5\n",
      "4111/4111 - 170s - loss: 5.0118 - mse: 42.4262 - val_loss: 4.6237 - val_mse: 34.4689\n",
      "Epoch 2/50\n",
      "\n",
      "Epoch 00002: val_loss improved from 4.62368 to 4.50239, saving model to age_estimator.h5\n",
      "4111/4111 - 145s - loss: 4.7840 - mse: 38.9788 - val_loss: 4.5024 - val_mse: 33.4629\n",
      "Epoch 3/50\n",
      "\n",
      "Epoch 00003: val_loss did not improve from 4.50239\n",
      "4111/4111 - 145s - loss: 4.6856 - mse: 37.5984 - val_loss: 4.5301 - val_mse: 32.5008\n",
      "Epoch 4/50\n",
      "\n",
      "Epoch 00004: val_loss did not improve from 4.50239\n",
      "4111/4111 - 145s - loss: 4.6068 - mse: 36.5321 - val_loss: 4.5555 - val_mse: 31.9021\n",
      "Epoch 5/50\n",
      "\n",
      "Epoch 00005: val_loss improved from 4.50239 to 4.34969, saving model to age_estimator.h5\n",
      "4111/4111 - 145s - loss: 4.5320 - mse: 35.4799 - val_loss: 4.3497 - val_mse: 31.3531\n",
      "Epoch 6/50\n",
      "\n",
      "Epoch 00006: val_loss did not improve from 4.34969\n",
      "4111/4111 - 145s - loss: 4.4629 - mse: 34.6269 - val_loss: 4.3728 - val_mse: 30.3437\n",
      "Epoch 7/50\n",
      "\n",
      "Epoch 00007: val_loss improved from 4.34969 to 4.30718, saving model to age_estimator.h5\n",
      "4111/4111 - 145s - loss: 4.4116 - mse: 33.9644 - val_loss: 4.3072 - val_mse: 30.4422\n",
      "Epoch 8/50\n",
      "\n",
      "Epoch 00008: val_loss improved from 4.30718 to 4.28337, saving model to age_estimator.h5\n",
      "4111/4111 - 145s - loss: 4.3626 - mse: 33.2942 - val_loss: 4.2834 - val_mse: 29.9425\n",
      "Epoch 9/50\n",
      "\n",
      "Epoch 00009: val_loss improved from 4.28337 to 4.23950, saving model to age_estimator.h5\n",
      "4111/4111 - 145s - loss: 4.3199 - mse: 32.7088 - val_loss: 4.2395 - val_mse: 29.5684\n",
      "Epoch 10/50\n",
      "\n",
      "Epoch 00010: val_loss did not improve from 4.23950\n",
      "4111/4111 - 145s - loss: 4.2789 - mse: 32.1115 - val_loss: 4.2468 - val_mse: 29.4157\n",
      "Epoch 11/50\n",
      "\n",
      "Epoch 00011: val_loss did not improve from 4.23950\n",
      "4111/4111 - 145s - loss: 4.2382 - mse: 31.6262 - val_loss: 4.2528 - val_mse: 29.1357\n",
      "Epoch 12/50\n",
      "\n",
      "Epoch 00012: val_loss improved from 4.23950 to 4.18402, saving model to age_estimator.h5\n",
      "4111/4111 - 145s - loss: 4.2068 - mse: 31.2304 - val_loss: 4.1840 - val_mse: 28.8302\n",
      "Epoch 13/50\n",
      "\n",
      "Epoch 00013: val_loss did not improve from 4.18402\n",
      "4111/4111 - 145s - loss: 4.1741 - mse: 30.7447 - val_loss: 4.2039 - val_mse: 28.6653\n",
      "Epoch 14/50\n",
      "\n",
      "Epoch 00014: val_loss improved from 4.18402 to 4.12590, saving model to age_estimator.h5\n",
      "4111/4111 - 145s - loss: 4.1466 - mse: 30.4006 - val_loss: 4.1259 - val_mse: 28.9381\n",
      "Epoch 15/50\n",
      "\n",
      "Epoch 00015: val_loss did not improve from 4.12590\n",
      "4111/4111 - 145s - loss: 4.1131 - mse: 29.9520 - val_loss: 4.1540 - val_mse: 28.3158\n",
      "Epoch 16/50\n",
      "\n",
      "Epoch 00016: val_loss did not improve from 4.12590\n",
      "4111/4111 - 145s - loss: 4.0919 - mse: 29.7086 - val_loss: 4.1427 - val_mse: 28.1573\n",
      "Epoch 17/50\n",
      "\n",
      "Epoch 00017: val_loss did not improve from 4.12590\n",
      "4111/4111 - 146s - loss: 4.0614 - mse: 29.2832 - val_loss: 4.1305 - val_mse: 28.1339\n",
      "Epoch 18/50\n",
      "\n",
      "Epoch 00018: val_loss did not improve from 4.12590\n",
      "4111/4111 - 145s - loss: 4.0349 - mse: 28.9996 - val_loss: 4.1528 - val_mse: 28.0648\n",
      "Epoch 19/50\n",
      "\n",
      "Epoch 00019: val_loss did not improve from 4.12590\n",
      "4111/4111 - 145s - loss: 4.0111 - mse: 28.7007 - val_loss: 4.1302 - val_mse: 28.1224\n",
      "Epoch 20/50\n",
      "\n",
      "Epoch 00020: val_loss did not improve from 4.12590\n",
      "4111/4111 - 145s - loss: 3.9857 - mse: 28.3867 - val_loss: 4.1425 - val_mse: 28.5229\n",
      "Epoch 21/50\n",
      "\n",
      "Epoch 00021: val_loss improved from 4.12590 to 4.12322, saving model to age_estimator.h5\n",
      "4111/4111 - 145s - loss: 3.9590 - mse: 28.0743 - val_loss: 4.1232 - val_mse: 27.7458\n",
      "Epoch 22/50\n",
      "\n",
      "Epoch 00022: val_loss improved from 4.12322 to 4.08781, saving model to age_estimator.h5\n",
      "4111/4111 - 145s - loss: 3.9396 - mse: 27.7852 - val_loss: 4.0878 - val_mse: 27.6482\n",
      "Epoch 23/50\n",
      "\n",
      "Epoch 00023: val_loss did not improve from 4.08781\n",
      "4111/4111 - 145s - loss: 3.9189 - mse: 27.6293 - val_loss: 4.1091 - val_mse: 27.7796\n",
      "Epoch 24/50\n",
      "\n",
      "Epoch 00024: val_loss did not improve from 4.08781\n",
      "4111/4111 - 145s - loss: 3.8994 - mse: 27.3488 - val_loss: 4.0993 - val_mse: 27.6294\n",
      "Epoch 25/50\n",
      "\n",
      "Epoch 00025: val_loss did not improve from 4.08781\n",
      "4111/4111 - 145s - loss: 3.8817 - mse: 27.1343 - val_loss: 4.1385 - val_mse: 27.9083\n",
      "Epoch 26/50\n",
      "\n",
      "Epoch 00026: val_loss improved from 4.08781 to 4.06434, saving model to age_estimator.h5\n",
      "4111/4111 - 145s - loss: 3.8540 - mse: 26.8737 - val_loss: 4.0643 - val_mse: 27.4358\n",
      "Epoch 27/50\n",
      "\n",
      "Epoch 00027: val_loss did not improve from 4.06434\n",
      "4111/4111 - 145s - loss: 3.8348 - mse: 26.6355 - val_loss: 4.0756 - val_mse: 27.5737\n",
      "Epoch 28/50\n",
      "\n",
      "Epoch 00028: val_loss did not improve from 4.06434\n",
      "4111/4111 - 145s - loss: 3.8197 - mse: 26.4466 - val_loss: 4.0735 - val_mse: 27.8807\n",
      "Epoch 29/50\n",
      "\n",
      "Epoch 00029: val_loss did not improve from 4.06434\n",
      "4111/4111 - 145s - loss: 3.7974 - mse: 26.1858 - val_loss: 4.0894 - val_mse: 27.4344\n",
      "Epoch 30/50\n",
      "\n",
      "Epoch 00030: val_loss did not improve from 4.06434\n",
      "4111/4111 - 145s - loss: 3.7818 - mse: 25.9642 - val_loss: 4.0991 - val_mse: 27.3836\n",
      "Epoch 31/50\n",
      "\n",
      "Epoch 00031: val_loss improved from 4.06434 to 4.04330, saving model to age_estimator.h5\n",
      "4111/4111 - 145s - loss: 3.7627 - mse: 25.7222 - val_loss: 4.0433 - val_mse: 28.1380\n",
      "Epoch 32/50\n",
      "\n",
      "Epoch 00032: val_loss did not improve from 4.04330\n",
      "4111/4111 - 145s - loss: 3.7445 - mse: 25.5465 - val_loss: 4.0699 - val_mse: 27.9090\n",
      "Epoch 33/50\n",
      "\n",
      "Epoch 00033: val_loss did not improve from 4.04330\n",
      "4111/4111 - 145s - loss: 3.7288 - mse: 25.3908 - val_loss: 4.0812 - val_mse: 27.5601\n",
      "Epoch 34/50\n",
      "\n",
      "Epoch 00034: val_loss did not improve from 4.04330\n",
      "4111/4111 - 145s - loss: 3.7041 - mse: 25.0330 - val_loss: 4.0725 - val_mse: 27.6665\n",
      "Epoch 35/50\n",
      "\n",
      "Epoch 00035: val_loss did not improve from 4.04330\n",
      "4111/4111 - 145s - loss: 3.6949 - mse: 24.9472 - val_loss: 4.0648 - val_mse: 27.7045\n",
      "Epoch 36/50\n",
      "\n",
      "Epoch 00036: val_loss did not improve from 4.04330\n",
      "4111/4111 - 145s - loss: 3.6782 - mse: 24.7520 - val_loss: 4.0767 - val_mse: 27.7708\n",
      "Epoch 37/50\n",
      "\n",
      "Epoch 00037: val_loss did not improve from 4.04330\n",
      "4111/4111 - 145s - loss: 3.6581 - mse: 24.5834 - val_loss: 4.1081 - val_mse: 27.8119\n",
      "Epoch 38/50\n",
      "\n",
      "Epoch 00038: val_loss did not improve from 4.04330\n",
      "4111/4111 - 145s - loss: 3.6426 - mse: 24.3106 - val_loss: 4.0982 - val_mse: 28.2033\n",
      "Epoch 39/50\n",
      "\n",
      "Epoch 00039: val_loss did not improve from 4.04330\n",
      "4111/4111 - 145s - loss: 3.6227 - mse: 24.0890 - val_loss: 4.0808 - val_mse: 27.7040\n",
      "Epoch 40/50\n",
      "\n",
      "Epoch 00040: val_loss did not improve from 4.04330\n",
      "4111/4111 - 145s - loss: 3.6144 - mse: 24.0637 - val_loss: 4.0787 - val_mse: 28.1500\n",
      "Epoch 41/50\n",
      "\n",
      "Epoch 00041: val_loss did not improve from 4.04330\n",
      "4111/4111 - 145s - loss: 3.5999 - mse: 23.8454 - val_loss: 4.0764 - val_mse: 27.7802\n",
      "Epoch 42/50\n",
      "\n",
      "Epoch 00042: val_loss did not improve from 4.04330\n",
      "4111/4111 - 145s - loss: 3.5910 - mse: 23.7451 - val_loss: 4.0842 - val_mse: 27.8040\n",
      "Epoch 43/50\n",
      "\n",
      "Epoch 00043: val_loss did not improve from 4.04330\n",
      "4111/4111 - 145s - loss: 3.5783 - mse: 23.5925 - val_loss: 4.1536 - val_mse: 28.1305\n",
      "Epoch 44/50\n",
      "\n",
      "Epoch 00044: val_loss did not improve from 4.04330\n",
      "4111/4111 - 145s - loss: 3.5531 - mse: 23.3632 - val_loss: 4.1045 - val_mse: 28.0304\n",
      "Epoch 45/50\n",
      "\n",
      "Epoch 00045: val_loss did not improve from 4.04330\n",
      "4111/4111 - 145s - loss: 3.5469 - mse: 23.2611 - val_loss: 4.0911 - val_mse: 27.9242\n",
      "Epoch 46/50\n",
      "Restoring model weights from the end of the best epoch.\n",
      "\n",
      "Epoch 00046: val_loss did not improve from 4.04330\n",
      "4111/4111 - 145s - loss: 3.5290 - mse: 22.9949 - val_loss: 4.0969 - val_mse: 27.9889\n",
      "Epoch 00046: early stopping\n"
     ]
    }
   ],
   "source": [
    "history_age = age_model.fit_generator(train_datagen_age, epochs=50, verbose=2,\n",
    "                    validation_data=validation_datagen_age,callbacks=[earlystopping, checkpoint])"
   ]
  },
  {
   "cell_type": "code",
   "execution_count": 6,
   "metadata": {},
   "outputs": [],
   "source": [
    "def graph_MAE(history,title):\n",
    "    fig, ax = plt.subplots()\n",
    "    ax.set_title(title)\n",
    "    ax.plot(history.history['loss'], label='Train')\n",
    "    ax.plot(history.history['val_loss'], label='Test')\n",
    "    ax.set_xlabel(\"Epochs\")\n",
    "    ax.set_ylabel(\"Mean Absolute Error\")\n",
    "    ax.legend()"
   ]
  },
  {
   "cell_type": "code",
   "execution_count": 7,
   "metadata": {},
   "outputs": [
    {
     "data": {
      "image/png": "[encoded data removed]",
      "text/plain": [
       "<Figure size 432x288 with 1 Axes>"
      ]
     },
     "metadata": {
      "needs_background": "light"
     },
     "output_type": "display_data"
    }
   ],
   "source": [
    "graph_MAE(history_age, 'Simple CNN Regressor Performance')"
   ]
  },
  {
   "cell_type": "code",
   "execution_count": 8,
   "metadata": {},
   "outputs": [],
   "source": [
    "def y_true_generator(datagen):\n",
    "    y = np.array([])\n",
    "    \n",
    "    for i in datagen:\n",
    "        y = np.append(y, datagen[i][1])\n",
    "            \n",
    "    return y"
   ]
  },
  {
   "cell_type": "code",
   "execution_count": 10,
   "metadata": {},
   "outputs": [
    {
     "data": {
      "text/plain": [
       "array([[14.],\n",
       "       [ 9.],\n",
       "       [10.],\n",
       "       ...,\n",
       "       [ 6.],\n",
       "       [17.],\n",
       "       [ 9.]])"
      ]
     },
     "execution_count": 10,
     "metadata": {},
     "output_type": "execute_result"
    }
   ],
   "source": [
    "y_true = np.array([])\n",
    "\n",
    "for i in range(len(validation_datagen_age)):\n",
    "    y_true = np.append(y_true, validation_datagen_age[i][1])\n",
    "\n",
    "y_true.reshape(-1,1)"
   ]
  },
  {
   "cell_type": "code",
   "execution_count": 13,
   "metadata": {},
   "outputs": [
    {
     "data": {
      "text/plain": [
       "array([[-0.00222991],\n",
       "       [-0.00127643],\n",
       "       [-0.00336794],\n",
       "       ...,\n",
       "       [ 0.00275279],\n",
       "       [ 0.00272203],\n",
       "       [ 0.00266052]])"
      ]
     },
     "execution_count": 13,
     "metadata": {},
     "output_type": "execute_result"
    }
   ],
   "source": [
    "X_test = np.array([])\n",
    "\n",
    "for i in range(len(validation_datagen_age)):\n",
    "    X_test = np.append(X_test, validation_datagen_age[i][0])"
   ]
  },
  {
   "cell_type": "code",
   "execution_count": 24,
   "metadata": {},
   "outputs": [],
   "source": [
    "X_test = X_test.reshape(-1,100,100,3)"
   ]
  },
  {
   "cell_type": "code",
   "execution_count": 27,
   "metadata": {},
   "outputs": [
    {
     "data": {
      "text/plain": [
       "(100, 100, 3)"
      ]
     },
     "execution_count": 27,
     "metadata": {},
     "output_type": "execute_result"
    }
   ],
   "source": [
    "X_test[1].shape"
   ]
  },
  {
   "cell_type": "code",
   "execution_count": 28,
   "metadata": {},
   "outputs": [
    {
     "ename": "ValueError",
     "evalue": "The `batch_size` argument must not be specified for the given input type. Received input: <keras_preprocessing.image.directory_iterator.DirectoryIterator object at 0x7ff94fe17518>, batch_size: 32",
     "output_type": "error",
     "traceback": [
      "\u001b[0;31m---------------------------------------------------------------------------\u001b[0m",
      "\u001b[0;31mValueError\u001b[0m                                Traceback (most recent call last)",
      "\u001b[0;32m<ipython-input-28-f60925056793>\u001b[0m in \u001b[0;36m<module>\u001b[0;34m()\u001b[0m\n\u001b[0;32m----> 1\u001b[0;31m \u001b[0my_pred\u001b[0m \u001b[0;34m=\u001b[0m \u001b[0mage_model\u001b[0m\u001b[0;34m.\u001b[0m\u001b[0mpredict_classes\u001b[0m\u001b[0;34m(\u001b[0m\u001b[0mvalidation_datagen_age\u001b[0m\u001b[0;34m)\u001b[0m\u001b[0;34m\u001b[0m\u001b[0;34m\u001b[0m\u001b[0m\n\u001b[0m",
      "\u001b[0;32m/home/ubuntu/anaconda3/envs/tensorflow2_p36/lib/python3.6/site-packages/tensorflow_core/python/keras/engine/sequential.py\u001b[0m in \u001b[0;36mpredict_classes\u001b[0;34m(self, x, batch_size, verbose)\u001b[0m\n\u001b[1;32m    336\u001b[0m         \u001b[0mA\u001b[0m \u001b[0mnumpy\u001b[0m \u001b[0marray\u001b[0m \u001b[0mof\u001b[0m \u001b[0;32mclass\u001b[0m \u001b[0mpredictions\u001b[0m\u001b[0;34m.\u001b[0m\u001b[0;34m\u001b[0m\u001b[0;34m\u001b[0m\u001b[0m\n\u001b[1;32m    337\u001b[0m     \"\"\"\n\u001b[0;32m--> 338\u001b[0;31m     \u001b[0mproba\u001b[0m \u001b[0;34m=\u001b[0m \u001b[0mself\u001b[0m\u001b[0;34m.\u001b[0m\u001b[0mpredict\u001b[0m\u001b[0;34m(\u001b[0m\u001b[0mx\u001b[0m\u001b[0;34m,\u001b[0m \u001b[0mbatch_size\u001b[0m\u001b[0;34m=\u001b[0m\u001b[0mbatch_size\u001b[0m\u001b[0;34m,\u001b[0m \u001b[0mverbose\u001b[0m\u001b[0;34m=\u001b[0m\u001b[0mverbose\u001b[0m\u001b[0;34m)\u001b[0m\u001b[0;34m\u001b[0m\u001b[0;34m\u001b[0m\u001b[0m\n\u001b[0m\u001b[1;32m    339\u001b[0m     \u001b[0;32mif\u001b[0m \u001b[0mproba\u001b[0m\u001b[0;34m.\u001b[0m\u001b[0mshape\u001b[0m\u001b[0;34m[\u001b[0m\u001b[0;34m-\u001b[0m\u001b[0;36m1\u001b[0m\u001b[0;34m]\u001b[0m \u001b[0;34m>\u001b[0m \u001b[0;36m1\u001b[0m\u001b[0;34m:\u001b[0m\u001b[0;34m\u001b[0m\u001b[0;34m\u001b[0m\u001b[0m\n\u001b[1;32m    340\u001b[0m       \u001b[0;32mreturn\u001b[0m \u001b[0mproba\u001b[0m\u001b[0;34m.\u001b[0m\u001b[0margmax\u001b[0m\u001b[0;34m(\u001b[0m\u001b[0maxis\u001b[0m\u001b[0;34m=\u001b[0m\u001b[0;34m-\u001b[0m\u001b[0;36m1\u001b[0m\u001b[0;34m)\u001b[0m\u001b[0;34m\u001b[0m\u001b[0;34m\u001b[0m\u001b[0m\n",
      "\u001b[0;32m/home/ubuntu/anaconda3/envs/tensorflow2_p36/lib/python3.6/site-packages/tensorflow_core/python/keras/engine/training.py\u001b[0m in \u001b[0;36mpredict\u001b[0;34m(self, x, batch_size, verbose, steps, callbacks, max_queue_size, workers, use_multiprocessing)\u001b[0m\n\u001b[1;32m   1029\u001b[0m         \u001b[0mmax_queue_size\u001b[0m\u001b[0;34m=\u001b[0m\u001b[0mmax_queue_size\u001b[0m\u001b[0;34m,\u001b[0m\u001b[0;34m\u001b[0m\u001b[0;34m\u001b[0m\u001b[0m\n\u001b[1;32m   1030\u001b[0m         \u001b[0mworkers\u001b[0m\u001b[0;34m=\u001b[0m\u001b[0mworkers\u001b[0m\u001b[0;34m,\u001b[0m\u001b[0;34m\u001b[0m\u001b[0;34m\u001b[0m\u001b[0m\n\u001b[0;32m-> 1031\u001b[0;31m         use_multiprocessing=use_multiprocessing)\n\u001b[0m\u001b[1;32m   1032\u001b[0m \u001b[0;34m\u001b[0m\u001b[0m\n\u001b[1;32m   1033\u001b[0m   \u001b[0;32mdef\u001b[0m \u001b[0mreset_metrics\u001b[0m\u001b[0;34m(\u001b[0m\u001b[0mself\u001b[0m\u001b[0;34m)\u001b[0m\u001b[0;34m:\u001b[0m\u001b[0;34m\u001b[0m\u001b[0;34m\u001b[0m\u001b[0m\n",
      "\u001b[0;32m/home/ubuntu/anaconda3/envs/tensorflow2_p36/lib/python3.6/site-packages/tensorflow_core/python/keras/engine/training_v2.py\u001b[0m in \u001b[0;36mpredict\u001b[0;34m(self, model, x, batch_size, verbose, steps, callbacks, max_queue_size, workers, use_multiprocessing, **kwargs)\u001b[0m\n\u001b[1;32m    496\u001b[0m         \u001b[0mmodel\u001b[0m\u001b[0;34m,\u001b[0m \u001b[0mModeKeys\u001b[0m\u001b[0;34m.\u001b[0m\u001b[0mPREDICT\u001b[0m\u001b[0;34m,\u001b[0m \u001b[0mx\u001b[0m\u001b[0;34m=\u001b[0m\u001b[0mx\u001b[0m\u001b[0;34m,\u001b[0m \u001b[0mbatch_size\u001b[0m\u001b[0;34m=\u001b[0m\u001b[0mbatch_size\u001b[0m\u001b[0;34m,\u001b[0m \u001b[0mverbose\u001b[0m\u001b[0;34m=\u001b[0m\u001b[0mverbose\u001b[0m\u001b[0;34m,\u001b[0m\u001b[0;34m\u001b[0m\u001b[0;34m\u001b[0m\u001b[0m\n\u001b[1;32m    497\u001b[0m         \u001b[0msteps\u001b[0m\u001b[0;34m=\u001b[0m\u001b[0msteps\u001b[0m\u001b[0;34m,\u001b[0m \u001b[0mcallbacks\u001b[0m\u001b[0;34m=\u001b[0m\u001b[0mcallbacks\u001b[0m\u001b[0;34m,\u001b[0m \u001b[0mmax_queue_size\u001b[0m\u001b[0;34m=\u001b[0m\u001b[0mmax_queue_size\u001b[0m\u001b[0;34m,\u001b[0m\u001b[0;34m\u001b[0m\u001b[0;34m\u001b[0m\u001b[0m\n\u001b[0;32m--> 498\u001b[0;31m         workers=workers, use_multiprocessing=use_multiprocessing, **kwargs)\n\u001b[0m\u001b[1;32m    499\u001b[0m \u001b[0;34m\u001b[0m\u001b[0m\n\u001b[1;32m    500\u001b[0m \u001b[0;34m\u001b[0m\u001b[0m\n",
      "\u001b[0;32m/home/ubuntu/anaconda3/envs/tensorflow2_p36/lib/python3.6/site-packages/tensorflow_core/python/keras/engine/training_v2.py\u001b[0m in \u001b[0;36m_model_iteration\u001b[0;34m(self, model, mode, x, y, batch_size, verbose, sample_weight, steps, callbacks, max_queue_size, workers, use_multiprocessing, **kwargs)\u001b[0m\n\u001b[1;32m    405\u001b[0m \u001b[0;34m\u001b[0m\u001b[0m\n\u001b[1;32m    406\u001b[0m     batch_size = model._validate_or_infer_batch_size(\n\u001b[0;32m--> 407\u001b[0;31m         batch_size, steps, x)\n\u001b[0m\u001b[1;32m    408\u001b[0m     \u001b[0mstrategy\u001b[0m \u001b[0;34m=\u001b[0m \u001b[0m_get_distribution_strategy\u001b[0m\u001b[0;34m(\u001b[0m\u001b[0mmodel\u001b[0m\u001b[0;34m)\u001b[0m\u001b[0;34m\u001b[0m\u001b[0;34m\u001b[0m\u001b[0m\n\u001b[1;32m    409\u001b[0m     batch_size, steps = dist_utils.process_batch_and_step_size(\n",
      "\u001b[0;32m/home/ubuntu/anaconda3/envs/tensorflow2_p36/lib/python3.6/site-packages/tensorflow_core/python/keras/engine/training.py\u001b[0m in \u001b[0;36m_validate_or_infer_batch_size\u001b[0;34m(self, batch_size, steps, x)\u001b[0m\n\u001b[1;32m   1772\u001b[0m             \u001b[0;34m'The `batch_size` argument must not be specified for the given '\u001b[0m\u001b[0;34m\u001b[0m\u001b[0;34m\u001b[0m\u001b[0m\n\u001b[1;32m   1773\u001b[0m             'input type. Received input: {}, batch_size: {}'.format(\n\u001b[0;32m-> 1774\u001b[0;31m                 x, batch_size))\n\u001b[0m\u001b[1;32m   1775\u001b[0m       \u001b[0;32mreturn\u001b[0m\u001b[0;34m\u001b[0m\u001b[0;34m\u001b[0m\u001b[0m\n\u001b[1;32m   1776\u001b[0m \u001b[0;34m\u001b[0m\u001b[0m\n",
      "\u001b[0;31mValueError\u001b[0m: The `batch_size` argument must not be specified for the given input type. Received input: <keras_preprocessing.image.directory_iterator.DirectoryIterator object at 0x7ff94fe17518>, batch_size: 32"
     ]
    }
   ],
   "source": [
    "y_pred = age_model.predict_classes(validation_datagen_age)"
   ]
  },
  {
   "cell_type": "code",
   "execution_count": 30,
   "metadata": {},
   "outputs": [],
   "source": [
    "import pickle\n",
    "with open('history_age.pickle', 'wb') as f:\n",
    "    pickle.dump(history_age.history, f)"
   ]
  }
 ],
 "metadata": {
  "kernelspec": {
   "display_name": "Python 3",
   "language": "python",
   "name": "python3"
  },
  "language_info": {
   "codemirror_mode": {
    "name": "ipython",
    "version": 3
   },
   "file_extension": ".py",
   "mimetype": "text/x-python",
   "name": "python",
   "nbconvert_exporter": "python",
   "pygments_lexer": "ipython3",
   "version": "3.8.5"
  }
 },
 "nbformat": 4,
 "nbformat_minor": 5
}
