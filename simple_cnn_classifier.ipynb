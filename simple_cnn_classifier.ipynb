{
 "cells": [
  {
   "cell_type": "code",
   "execution_count": 21,
   "metadata": {},
   "outputs": [],
   "source": [
    "import pandas as pd\n",
    "import numpy as np\n",
    "import matplotlib.pyplot as plt\n",
    "plt.style.use('ggplot')\n",
    "\n",
    "import tensorflow as tf\n",
    "from tensorflow import keras\n",
    "from tensorflow.keras.layers import Convolution2D, Dense, Dropout, Flatten, MaxPooling2D\n",
    "from tensorflow.keras.layers import GlobalAveragePooling2D,ZeroPadding2D\n",
    "from tensorflow.keras.models import Sequential\n",
    "from tensorflow.keras.applications.xception import preprocess_input\n",
    "from tensorflow.keras.preprocessing.image import ImageDataGenerator\n",
    "from tensorflow.keras.callbacks import EarlyStopping, ModelCheckpoint\n",
    "\n",
    "from sklearn.model_selection import train_test_split\n",
    "from sklearn.metrics import accuracy_score, precision_score, recall_score\n",
    "from sklearn.metrics import confusion_matrix\n",
    "\n",
    "import seaborn as sns\n",
    "import pickle"
   ]
  },
  {
   "cell_type": "markdown",
   "metadata": {},
   "source": [
    "## Restructure the folders"
   ]
  },
  {
   "cell_type": "markdown",
   "metadata": {},
   "source": [
    "Before we can create a model for detecting gender, we need to restructor the folders to fit the flow_from_directory funtion.\n",
    "\n",
    "#### Current Structure:\n",
    "\n",
    "    ADAF\n",
    "    ├── 18\n",
    "    │   ├── 111       \n",
    "    │   └── 112 \n",
    "    ├── 19                        \n",
    "    │   ├── 111       \n",
    "    │   └── 112            \n",
    "    └── ...\n",
    "    \n",
    "#### Desired Structure:\n",
    "\n",
    "    ADAF\n",
    "    ├── Male\n",
    "    │   ├── 18\n",
    "    │   ├── 19 \n",
    "    │   └── ...\n",
    "    └── Female                        \n",
    "        ├── 18\n",
    "        ├── 19 \n",
    "        └── ...      "
   ]
  },
  {
   "cell_type": "code",
   "execution_count": 64,
   "metadata": {},
   "outputs": [],
   "source": [
    "cp_command = 'cp -r '\n",
    "for i in range(15,41):\n",
    "    cp_command += str(i) +' '"
   ]
  },
  {
   "cell_type": "code",
   "execution_count": 65,
   "metadata": {},
   "outputs": [
    {
     "name": "stdout",
     "output_type": "stream",
     "text": [
      "cp -r 15 16 17 18 19 20 21 22 23 24 25 26 27 28 29 30 31 32 33 34 35 36 37 38 39 40 male\n",
      "\n",
      "rm -rf 15/112 16/112 17/112 18/112 19/112 20/112 21/112 22/112 23/112 24/112 25/112 26/112 27/112 28/112 29/112 30/112 31/112 32/112 33/112 34/112 35/112 36/112 37/112 38/112 39/112 40/112 \n"
     ]
    }
   ],
   "source": [
    "# male folder\n",
    "cp_male = cp_command + 'male' # copy all into the male folder\n",
    "print(cp_male)\n",
    "print(\"\")\n",
    "# delete female folders from male folder\n",
    "rm_female_from_male = 'rm -rf '\n",
    "for i in range(15,41):\n",
    "    rm_female_from_male += str(i)+'/112 '\n",
    "print(rm_female_from_male)"
   ]
  },
  {
   "cell_type": "code",
   "execution_count": 66,
   "metadata": {},
   "outputs": [
    {
     "name": "stdout",
     "output_type": "stream",
     "text": [
      "cp -r 15 16 17 18 19 20 21 22 23 24 25 26 27 28 29 30 31 32 33 34 35 36 37 38 39 40 female\n",
      "\n",
      "rm -rf 15/111 16/111 17/111 18/111 19/111 20/111 21/111 22/111 23/111 24/111 25/111 26/111 27/111 28/111 29/111 30/111 31/111 32/111 33/111 34/111 35/111 36/111 37/111 38/111 39/111 40/111 \n"
     ]
    }
   ],
   "source": [
    "# female folder\n",
    "cp_female = cp_command + 'female'  # copy all into the female folder\n",
    "print(cp_female)\n",
    "print(\"\")\n",
    "# delete female folders from male folder\n",
    "rm_male_from_female = 'rm -rf '\n",
    "for i in range(15,41):\n",
    "    rm_male_from_female += str(i)+'/111 '\n",
    "print(rm_male_from_female)"
   ]
  },
  {
   "cell_type": "markdown",
   "metadata": {},
   "source": [
    "## Simple CNN Classifier"
   ]
  },
  {
   "cell_type": "code",
   "execution_count": 2,
   "metadata": {},
   "outputs": [
    {
     "name": "stdout",
     "output_type": "stream",
     "text": [
      "Found 131535 images belonging to 2 classes.\n",
      "Found 32883 images belonging to 2 classes.\n"
     ]
    }
   ],
   "source": [
    "imggen = ImageDataGenerator(preprocessing_function=preprocess_input, rescale=1/255.0,validation_split=0.2)\n",
    "\n",
    "batch_size=32\n",
    "filepath = '/home/ubuntu/data/AFAD-Full/AFAD_gender'\n",
    "train_datagen = imggen.flow_from_directory(filepath, target_size=(100,100),\n",
    "                                           class_mode = 'binary',batch_size=batch_size,subset='training')\n",
    "validation_datagen = imggen.flow_from_directory(filepath, target_size=(100,100),\n",
    "                                            class_mode = 'binary',batch_size=batch_size, subset='validation')"
   ]
  },
  {
   "cell_type": "code",
   "execution_count": 3,
   "metadata": {},
   "outputs": [
    {
     "name": "stderr",
     "output_type": "stream",
     "text": [
      "WARNING: Logging before flag parsing goes to stderr.\n",
      "W0422 22:48:41.933611 140619095844608 deprecation.py:506] From /home/ubuntu/anaconda3/envs/tensorflow_p36/lib/python3.6/site-packages/tensorflow/python/ops/init_ops.py:1251: calling VarianceScaling.__init__ (from tensorflow.python.ops.init_ops) with dtype is deprecated and will be removed in a future version.\n",
      "Instructions for updating:\n",
      "Call initializer instance with the dtype argument instead of passing it to the constructor\n",
      "W0422 22:48:42.239141 140619095844608 deprecation.py:323] From /home/ubuntu/anaconda3/envs/tensorflow_p36/lib/python3.6/site-packages/tensorflow/python/ops/nn_impl.py:180: add_dispatch_support.<locals>.wrapper (from tensorflow.python.ops.array_ops) is deprecated and will be removed in a future version.\n",
      "Instructions for updating:\n",
      "Use tf.where in 2.0, which has the same broadcast rule as np.where\n"
     ]
    },
    {
     "name": "stdout",
     "output_type": "stream",
     "text": [
      "Model: \"sequential\"\n",
      "_________________________________________________________________\n",
      "Layer (type)                 Output Shape              Param #   \n",
      "=================================================================\n",
      "conv2d (Conv2D)              (None, 100, 100, 64)      1792      \n",
      "_________________________________________________________________\n",
      "max_pooling2d (MaxPooling2D) (None, 50, 50, 64)        0         \n",
      "_________________________________________________________________\n",
      "conv2d_1 (Conv2D)            (None, 50, 50, 32)        18464     \n",
      "_________________________________________________________________\n",
      "max_pooling2d_1 (MaxPooling2 (None, 25, 25, 32)        0         \n",
      "_________________________________________________________________\n",
      "dropout (Dropout)            (None, 25, 25, 32)        0         \n",
      "_________________________________________________________________\n",
      "flatten (Flatten)            (None, 20000)             0         \n",
      "_________________________________________________________________\n",
      "dense (Dense)                (None, 128)               2560128   \n",
      "_________________________________________________________________\n",
      "dropout_1 (Dropout)          (None, 128)               0         \n",
      "_________________________________________________________________\n",
      "dense_1 (Dense)              (None, 64)                8256      \n",
      "_________________________________________________________________\n",
      "dropout_2 (Dropout)          (None, 64)                0         \n",
      "_________________________________________________________________\n",
      "dense_2 (Dense)              (None, 1)                 65        \n",
      "=================================================================\n",
      "Total params: 2,588,705\n",
      "Trainable params: 2,588,705\n",
      "Non-trainable params: 0\n",
      "_________________________________________________________________\n"
     ]
    }
   ],
   "source": [
    "gender_model = Sequential()\n",
    "\n",
    "gender_model.add(Convolution2D(filters = 64, kernel_size = (3, 3),\n",
    "        padding = 'same',input_shape=(100,100,3), activation = 'relu'))\n",
    "gender_model.add(MaxPooling2D(pool_size= (2, 2)))\n",
    "gender_model.add(Convolution2D(filters = 32, kernel_size = (3, 3), \n",
    "        padding = 'same', activation = 'relu'))\n",
    "gender_model.add(MaxPooling2D(pool_size= (2, 2)))\n",
    "gender_model.add(Dropout(rate = 0.5))\n",
    "gender_model.add(Flatten())\n",
    "gender_model.add(Dense(128, activation = 'relu'))\n",
    "gender_model.add(Dropout(rate = 0.25))\n",
    "gender_model.add(Dense(64, activation = 'relu'))\n",
    "gender_model.add(Dropout(rate = 0.5))\n",
    "gender_model.add(Dense(1, activation='sigmoid'))\n",
    "\n",
    "gender_model.compile(optimizer='adam', \n",
    "        loss='binary_crossentropy', metrics=['accuracy'])\n",
    "\n",
    "gender_model.summary()"
   ]
  },
  {
   "cell_type": "code",
   "execution_count": 4,
   "metadata": {},
   "outputs": [],
   "source": [
    "checkpoint = ModelCheckpoint('gender_estimator.h5', monitor = 'val_loss', \n",
    "                             mode = 'min', save_best_only = True, verbose = 1)\n",
    "\n",
    "earlystopping = EarlyStopping(monitor= 'val_loss', patience = 15, \n",
    "                              verbose = 1, restore_best_weights= True)"
   ]
  },
  {
   "cell_type": "code",
   "execution_count": 5,
   "metadata": {
    "scrolled": true
   },
   "outputs": [
    {
     "name": "stdout",
     "output_type": "stream",
     "text": [
      "Epoch 1/50\n",
      "\n",
      "Epoch 00001: val_loss improved from inf to 0.33202, saving model to gender_estimator.h5\n",
      "4111/4111 - 261s - loss: 0.3747 - acc: 0.8348 - val_loss: 0.3320 - val_acc: 0.8511\n",
      "Epoch 2/50\n",
      "\n",
      "Epoch 00002: val_loss improved from 0.33202 to 0.27330, saving model to gender_estimator.h5\n",
      "4111/4111 - 149s - loss: 0.3069 - acc: 0.8714 - val_loss: 0.2733 - val_acc: 0.8869\n",
      "Epoch 3/50\n",
      "\n",
      "Epoch 00003: val_loss improved from 0.27330 to 0.26491, saving model to gender_estimator.h5\n",
      "4111/4111 - 148s - loss: 0.2836 - acc: 0.8825 - val_loss: 0.2649 - val_acc: 0.8906\n",
      "Epoch 4/50\n",
      "\n",
      "Epoch 00004: val_loss did not improve from 0.26491\n",
      "4111/4111 - 149s - loss: 0.2708 - acc: 0.8895 - val_loss: 0.2721 - val_acc: 0.8853\n",
      "Epoch 5/50\n",
      "\n",
      "Epoch 00005: val_loss improved from 0.26491 to 0.23395, saving model to gender_estimator.h5\n",
      "4111/4111 - 150s - loss: 0.2597 - acc: 0.8937 - val_loss: 0.2340 - val_acc: 0.9060\n",
      "Epoch 6/50\n",
      "\n",
      "Epoch 00006: val_loss did not improve from 0.23395\n",
      "4111/4111 - 149s - loss: 0.2500 - acc: 0.8989 - val_loss: 0.2381 - val_acc: 0.9040\n",
      "Epoch 7/50\n",
      "\n",
      "Epoch 00007: val_loss improved from 0.23395 to 0.22596, saving model to gender_estimator.h5\n",
      "4111/4111 - 149s - loss: 0.2413 - acc: 0.9031 - val_loss: 0.2260 - val_acc: 0.9079\n",
      "Epoch 8/50\n",
      "\n",
      "Epoch 00008: val_loss did not improve from 0.22596\n",
      "4111/4111 - 150s - loss: 0.2352 - acc: 0.9043 - val_loss: 0.2267 - val_acc: 0.9082\n",
      "Epoch 9/50\n",
      "\n",
      "Epoch 00009: val_loss did not improve from 0.22596\n",
      "4111/4111 - 148s - loss: 0.2273 - acc: 0.9094 - val_loss: 0.2294 - val_acc: 0.9053\n",
      "Epoch 10/50\n",
      "\n",
      "Epoch 00010: val_loss improved from 0.22596 to 0.22236, saving model to gender_estimator.h5\n",
      "4111/4111 - 149s - loss: 0.2226 - acc: 0.9112 - val_loss: 0.2224 - val_acc: 0.9113\n",
      "Epoch 11/50\n",
      "\n",
      "Epoch 00011: val_loss improved from 0.22236 to 0.20975, saving model to gender_estimator.h5\n",
      "4111/4111 - 151s - loss: 0.2166 - acc: 0.9140 - val_loss: 0.2097 - val_acc: 0.9160\n",
      "Epoch 12/50\n",
      "\n",
      "Epoch 00012: val_loss did not improve from 0.20975\n",
      "4111/4111 - 150s - loss: 0.2142 - acc: 0.9152 - val_loss: 0.2243 - val_acc: 0.9112\n",
      "Epoch 13/50\n",
      "\n",
      "Epoch 00013: val_loss did not improve from 0.20975\n",
      "4111/4111 - 152s - loss: 0.2102 - acc: 0.9170 - val_loss: 0.2216 - val_acc: 0.9088\n",
      "Epoch 14/50\n",
      "\n",
      "Epoch 00014: val_loss did not improve from 0.20975\n",
      "4111/4111 - 154s - loss: 0.2053 - acc: 0.9186 - val_loss: 0.2118 - val_acc: 0.9157\n",
      "Epoch 15/50\n",
      "\n",
      "Epoch 00015: val_loss improved from 0.20975 to 0.19824, saving model to gender_estimator.h5\n",
      "4111/4111 - 149s - loss: 0.2027 - acc: 0.9211 - val_loss: 0.1982 - val_acc: 0.9229\n",
      "Epoch 16/50\n",
      "\n",
      "Epoch 00016: val_loss did not improve from 0.19824\n",
      "4111/4111 - 150s - loss: 0.1985 - acc: 0.9225 - val_loss: 0.2156 - val_acc: 0.9140\n",
      "Epoch 17/50\n",
      "\n",
      "Epoch 00017: val_loss did not improve from 0.19824\n",
      "4111/4111 - 148s - loss: 0.1958 - acc: 0.9225 - val_loss: 0.2134 - val_acc: 0.9148\n",
      "Epoch 18/50\n",
      "\n",
      "Epoch 00018: val_loss did not improve from 0.19824\n",
      "4111/4111 - 148s - loss: 0.1946 - acc: 0.9234 - val_loss: 0.2057 - val_acc: 0.9183\n",
      "Epoch 19/50\n",
      "\n",
      "Epoch 00019: val_loss did not improve from 0.19824\n",
      "4111/4111 - 149s - loss: 0.1908 - acc: 0.9253 - val_loss: 0.2109 - val_acc: 0.9166\n",
      "Epoch 20/50\n",
      "\n",
      "Epoch 00020: val_loss improved from 0.19824 to 0.19647, saving model to gender_estimator.h5\n",
      "4111/4111 - 149s - loss: 0.1897 - acc: 0.9266 - val_loss: 0.1965 - val_acc: 0.9221\n",
      "Epoch 21/50\n",
      "\n",
      "Epoch 00021: val_loss did not improve from 0.19647\n",
      "4111/4111 - 149s - loss: 0.1860 - acc: 0.9279 - val_loss: 0.1976 - val_acc: 0.9212\n",
      "Epoch 22/50\n",
      "\n",
      "Epoch 00022: val_loss did not improve from 0.19647\n",
      "4111/4111 - 148s - loss: 0.1863 - acc: 0.9281 - val_loss: 0.2000 - val_acc: 0.9219\n",
      "Epoch 23/50\n",
      "\n",
      "Epoch 00023: val_loss did not improve from 0.19647\n",
      "4111/4111 - 148s - loss: 0.1852 - acc: 0.9288 - val_loss: 0.2001 - val_acc: 0.9226\n",
      "Epoch 24/50\n",
      "\n",
      "Epoch 00024: val_loss improved from 0.19647 to 0.19316, saving model to gender_estimator.h5\n",
      "4111/4111 - 148s - loss: 0.1825 - acc: 0.9287 - val_loss: 0.1932 - val_acc: 0.9236\n",
      "Epoch 25/50\n",
      "\n",
      "Epoch 00025: val_loss improved from 0.19316 to 0.18692, saving model to gender_estimator.h5\n",
      "4111/4111 - 149s - loss: 0.1803 - acc: 0.9295 - val_loss: 0.1869 - val_acc: 0.9265\n",
      "Epoch 26/50\n",
      "\n",
      "Epoch 00026: val_loss did not improve from 0.18692\n",
      "4111/4111 - 147s - loss: 0.1789 - acc: 0.9308 - val_loss: 0.1886 - val_acc: 0.9249\n",
      "Epoch 27/50\n",
      "\n",
      "Epoch 00027: val_loss improved from 0.18692 to 0.18494, saving model to gender_estimator.h5\n",
      "4111/4111 - 149s - loss: 0.1756 - acc: 0.9328 - val_loss: 0.1849 - val_acc: 0.9274\n",
      "Epoch 28/50\n",
      "\n",
      "Epoch 00028: val_loss did not improve from 0.18494\n",
      "4111/4111 - 149s - loss: 0.1751 - acc: 0.9318 - val_loss: 0.1982 - val_acc: 0.9208\n",
      "Epoch 29/50\n",
      "\n",
      "Epoch 00029: val_loss did not improve from 0.18494\n",
      "4111/4111 - 149s - loss: 0.1740 - acc: 0.9338 - val_loss: 0.2129 - val_acc: 0.9163\n",
      "Epoch 30/50\n",
      "\n",
      "Epoch 00030: val_loss did not improve from 0.18494\n",
      "4111/4111 - 150s - loss: 0.1713 - acc: 0.9343 - val_loss: 0.2030 - val_acc: 0.9204\n",
      "Epoch 31/50\n",
      "\n",
      "Epoch 00031: val_loss did not improve from 0.18494\n",
      "4111/4111 - 150s - loss: 0.1692 - acc: 0.9353 - val_loss: 0.1959 - val_acc: 0.9242\n",
      "Epoch 32/50\n",
      "\n",
      "Epoch 00032: val_loss did not improve from 0.18494\n",
      "4111/4111 - 150s - loss: 0.1667 - acc: 0.9349 - val_loss: 0.1855 - val_acc: 0.9272\n",
      "Epoch 33/50\n",
      "\n",
      "Epoch 00033: val_loss did not improve from 0.18494\n",
      "4111/4111 - 151s - loss: 0.1659 - acc: 0.9362 - val_loss: 0.1868 - val_acc: 0.9273\n",
      "Epoch 34/50\n",
      "\n",
      "Epoch 00034: val_loss improved from 0.18494 to 0.17962, saving model to gender_estimator.h5\n",
      "4111/4111 - 150s - loss: 0.1656 - acc: 0.9367 - val_loss: 0.1796 - val_acc: 0.9295\n",
      "Epoch 35/50\n",
      "\n",
      "Epoch 00035: val_loss did not improve from 0.17962\n",
      "4111/4111 - 153s - loss: 0.1634 - acc: 0.9375 - val_loss: 0.1922 - val_acc: 0.9242\n",
      "Epoch 36/50\n",
      "\n",
      "Epoch 00036: val_loss did not improve from 0.17962\n",
      "4111/4111 - 151s - loss: 0.1626 - acc: 0.9374 - val_loss: 0.1897 - val_acc: 0.9250\n",
      "Epoch 37/50\n",
      "\n",
      "Epoch 00037: val_loss did not improve from 0.17962\n",
      "4111/4111 - 152s - loss: 0.1597 - acc: 0.9392 - val_loss: 0.1981 - val_acc: 0.9204\n",
      "Epoch 38/50\n",
      "\n",
      "Epoch 00038: val_loss did not improve from 0.17962\n",
      "4111/4111 - 152s - loss: 0.1586 - acc: 0.9390 - val_loss: 0.1830 - val_acc: 0.9278\n",
      "Epoch 39/50\n",
      "\n",
      "Epoch 00039: val_loss did not improve from 0.17962\n",
      "4111/4111 - 150s - loss: 0.1598 - acc: 0.9392 - val_loss: 0.1988 - val_acc: 0.9223\n",
      "Epoch 40/50\n",
      "\n",
      "Epoch 00040: val_loss did not improve from 0.17962\n",
      "4111/4111 - 149s - loss: 0.1574 - acc: 0.9394 - val_loss: 0.1848 - val_acc: 0.9274\n",
      "Epoch 41/50\n",
      "\n",
      "Epoch 00041: val_loss did not improve from 0.17962\n",
      "4111/4111 - 150s - loss: 0.1553 - acc: 0.9410 - val_loss: 0.1938 - val_acc: 0.9232\n",
      "Epoch 42/50\n",
      "\n",
      "Epoch 00042: val_loss did not improve from 0.17962\n",
      "4111/4111 - 154s - loss: 0.1545 - acc: 0.9417 - val_loss: 0.1856 - val_acc: 0.9278\n",
      "Epoch 43/50\n",
      "\n",
      "Epoch 00043: val_loss did not improve from 0.17962\n",
      "4111/4111 - 148s - loss: 0.1546 - acc: 0.9408 - val_loss: 0.1895 - val_acc: 0.9247\n",
      "Epoch 44/50\n",
      "\n",
      "Epoch 00044: val_loss did not improve from 0.17962\n",
      "4111/4111 - 148s - loss: 0.1546 - acc: 0.9409 - val_loss: 0.1843 - val_acc: 0.9288\n",
      "Epoch 45/50\n",
      "\n",
      "Epoch 00045: val_loss did not improve from 0.17962\n",
      "4111/4111 - 149s - loss: 0.1512 - acc: 0.9423 - val_loss: 0.2085 - val_acc: 0.9176\n",
      "Epoch 46/50\n",
      "\n",
      "Epoch 00046: val_loss did not improve from 0.17962\n",
      "4111/4111 - 151s - loss: 0.1504 - acc: 0.9424 - val_loss: 0.1893 - val_acc: 0.9244\n",
      "Epoch 47/50\n",
      "\n",
      "Epoch 00047: val_loss did not improve from 0.17962\n",
      "4111/4111 - 150s - loss: 0.1508 - acc: 0.9422 - val_loss: 0.1812 - val_acc: 0.9296\n",
      "Epoch 48/50\n",
      "\n",
      "Epoch 00048: val_loss did not improve from 0.17962\n",
      "4111/4111 - 153s - loss: 0.1498 - acc: 0.9427 - val_loss: 0.1909 - val_acc: 0.9247\n",
      "Epoch 49/50\n",
      "Restoring model weights from the end of the best epoch.\n",
      "\n",
      "Epoch 00049: val_loss did not improve from 0.17962\n",
      "4111/4111 - 152s - loss: 0.1488 - acc: 0.9435 - val_loss: 0.1816 - val_acc: 0.9295\n",
      "Epoch 00049: early stopping\n"
     ]
    }
   ],
   "source": [
    "history_gender = gender_model.fit(train_datagen, batch_size=64, epochs=50, verbose=2,\n",
    "                    validation_data=validation_datagen,callbacks=[earlystopping, checkpoint])"
   ]
  },
  {
   "cell_type": "markdown",
   "metadata": {},
   "source": [
    "## Results Analysis"
   ]
  },
  {
   "cell_type": "code",
   "execution_count": 52,
   "metadata": {},
   "outputs": [],
   "source": [
    "def graph_ACC(history,title):\n",
    "    fig, ax = plt.subplots()\n",
    "    ax.set_title(title)\n",
    "    ax.plot(history.history['acc'], label='Train')\n",
    "    ax.plot(history.history['val_acc'], label='Test')\n",
    "    ax.set_xlabel(\"Epochs\")\n",
    "    ax.set_ylabel(\"Accuracy\")\n",
    "    ax.legend()"
   ]
  },
  {
   "cell_type": "code",
   "execution_count": 53,
   "metadata": {},
   "outputs": [
    {
     "data": {
      "image/png": "[encoded data removed]",
      "text/plain": [
       "<Figure size 432x288 with 1 Axes>"
      ]
     },
     "metadata": {},
     "output_type": "display_data"
    }
   ],
   "source": [
    "graph_ACC(history_gender, 'Simple CNN Classifier Performance')"
   ]
  },
  {
   "cell_type": "code",
   "execution_count": 17,
   "metadata": {},
   "outputs": [],
   "source": [
    "y_true = np.array([])\n",
    "\n",
    "for i in range(len(validation_datagen)):\n",
    "    y_true = np.append(y_true, validation_datagen[i][1])\n",
    "\n",
    "y_true.reshape(-1,1)"
   ]
  },
  {
   "cell_type": "code",
   "execution_count": 26,
   "metadata": {},
   "outputs": [],
   "source": [
    "y_pred = gender_model.predict_classes(validation_datagen)"
   ]
  },
  {
   "cell_type": "code",
   "execution_count": 63,
   "metadata": {},
   "outputs": [
    {
     "data": {
      "text/plain": [
       "array([[11930,   804],\n",
       "       [ 1515, 18634]])"
      ]
     },
     "execution_count": 63,
     "metadata": {},
     "output_type": "execute_result"
    }
   ],
   "source": [
    "cm = confusion_matrix(y_true,y_pred, labels=[0,1])\n",
    "cm"
   ]
  },
  {
   "cell_type": "code",
   "execution_count": 51,
   "metadata": {},
   "outputs": [
    {
     "data": {
      "text/plain": [
       "Text(0.5, 1.0, 'Confusion Matrix - Simple CNN Classifier')"
      ]
     },
     "execution_count": 51,
     "metadata": {},
     "output_type": "execute_result"
    },
    {
     "data": {
      "image/png": "[encoded data removed]",
      "text/plain": [
       "<Figure size 288x288 with 1 Axes>"
      ]
     },
     "metadata": {},
     "output_type": "display_data"
    }
   ],
   "source": [
    "fig, ax = plt.subplots(figsize = (4,4))\n",
    "categories = ['Female', 'Male']\n",
    "sns.heatmap(cm, annot=True, fmt='', xticklabels= categories, yticklabels= categories, cbar=False, square=True, ax = ax)\n",
    "ax.set_title('Confusion Matrix - Simple CNN Classifier', fontsize = 'large')"
   ]
  },
  {
   "cell_type": "code",
   "execution_count": 62,
   "metadata": {},
   "outputs": [],
   "source": [
    "# save the history\n",
    "with open('history_gender.pickle', 'wb') as f:\n",
    "    pickle.dump(history_gender.history, f)"
   ]
  }
 ],
 "metadata": {
  "kernelspec": {
   "display_name": "Python 3",
   "language": "python",
   "name": "python3"
  },
  "language_info": {
   "codemirror_mode": {
    "name": "ipython",
    "version": 3
   },
   "file_extension": ".py",
   "mimetype": "text/x-python",
   "name": "python",
   "nbconvert_exporter": "python",
   "pygments_lexer": "ipython3",
   "version": "3.8.5"
  }
 },
 "nbformat": 4,
 "nbformat_minor": 2
}
