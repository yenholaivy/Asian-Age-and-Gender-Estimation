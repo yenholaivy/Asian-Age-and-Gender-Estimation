{
 "cells": [
  {
   "cell_type": "code",
   "execution_count": 23,
   "metadata": {},
   "outputs": [],
   "source": [
    "import pandas as pd\n",
    "import numpy as np\n",
    "import matplotlib.pyplot as plt\n",
    "plt.style.use('ggplot')\n",
    "\n",
    "import tensorflow as tf\n",
    "from tensorflow import keras\n",
    "from tensorflow.keras.layers import Convolution2D, Dense, Dropout, Flatten, MaxPooling2D\n",
    "from tensorflow.keras.layers import GlobalAveragePooling2D,ZeroPadding2D\n",
    "from tensorflow.keras.models import Sequential\n",
    "from tensorflow.keras.applications.xception import preprocess_input\n",
    "from tensorflow.keras.preprocessing.image import ImageDataGenerator\n",
    "from tensorflow.keras.callbacks import EarlyStopping, ModelCheckpoint\n",
    "from tensorflow.keras.models import model_from_json\n",
    "\n",
    "from sklearn.model_selection import train_test_split\n",
    "from sklearn.metrics import mean_absolute_error\n",
    "\n",
    "from src.graph_performance import graph_MAE"
   ]
  },
  {
   "cell_type": "markdown",
   "metadata": {},
   "source": [
    "### Female"
   ]
  },
  {
   "cell_type": "code",
   "execution_count": 30,
   "metadata": {},
   "outputs": [
    {
     "name": "stdout",
     "output_type": "stream",
     "text": [
      "_________________________________________________________________\n",
      "Layer (type)                 Output Shape              Param #   \n",
      "=================================================================\n",
      "zero_padding2d_39 (ZeroPaddi (None, 226, 226, 3)       0         \n",
      "_________________________________________________________________\n",
      "conv2d_48 (Conv2D)           (None, 224, 224, 64)      1792      \n",
      "_________________________________________________________________\n",
      "zero_padding2d_40 (ZeroPaddi (None, 226, 226, 64)      0         \n",
      "_________________________________________________________________\n",
      "conv2d_49 (Conv2D)           (None, 224, 224, 64)      36928     \n",
      "_________________________________________________________________\n",
      "max_pooling2d_15 (MaxPooling (None, 112, 112, 64)      0         \n",
      "_________________________________________________________________\n",
      "zero_padding2d_41 (ZeroPaddi (None, 114, 114, 64)      0         \n",
      "_________________________________________________________________\n",
      "conv2d_50 (Conv2D)           (None, 112, 112, 128)     73856     \n",
      "_________________________________________________________________\n",
      "zero_padding2d_42 (ZeroPaddi (None, 114, 114, 128)     0         \n",
      "_________________________________________________________________\n",
      "conv2d_51 (Conv2D)           (None, 112, 112, 128)     147584    \n",
      "_________________________________________________________________\n",
      "max_pooling2d_16 (MaxPooling (None, 56, 56, 128)       0         \n",
      "_________________________________________________________________\n",
      "zero_padding2d_43 (ZeroPaddi (None, 58, 58, 128)       0         \n",
      "_________________________________________________________________\n",
      "conv2d_52 (Conv2D)           (None, 56, 56, 256)       295168    \n",
      "_________________________________________________________________\n",
      "zero_padding2d_44 (ZeroPaddi (None, 58, 58, 256)       0         \n",
      "_________________________________________________________________\n",
      "conv2d_53 (Conv2D)           (None, 56, 56, 256)       590080    \n",
      "_________________________________________________________________\n",
      "zero_padding2d_45 (ZeroPaddi (None, 58, 58, 256)       0         \n",
      "_________________________________________________________________\n",
      "conv2d_54 (Conv2D)           (None, 56, 56, 256)       590080    \n",
      "_________________________________________________________________\n",
      "max_pooling2d_17 (MaxPooling (None, 28, 28, 256)       0         \n",
      "_________________________________________________________________\n",
      "zero_padding2d_46 (ZeroPaddi (None, 30, 30, 256)       0         \n",
      "_________________________________________________________________\n",
      "conv2d_55 (Conv2D)           (None, 28, 28, 512)       1180160   \n",
      "_________________________________________________________________\n",
      "zero_padding2d_47 (ZeroPaddi (None, 30, 30, 512)       0         \n",
      "_________________________________________________________________\n",
      "conv2d_56 (Conv2D)           (None, 28, 28, 512)       2359808   \n",
      "_________________________________________________________________\n",
      "zero_padding2d_48 (ZeroPaddi (None, 30, 30, 512)       0         \n",
      "_________________________________________________________________\n",
      "conv2d_57 (Conv2D)           (None, 28, 28, 512)       2359808   \n",
      "_________________________________________________________________\n",
      "max_pooling2d_18 (MaxPooling (None, 14, 14, 512)       0         \n",
      "_________________________________________________________________\n",
      "zero_padding2d_49 (ZeroPaddi (None, 16, 16, 512)       0         \n",
      "_________________________________________________________________\n",
      "conv2d_58 (Conv2D)           (None, 14, 14, 512)       2359808   \n",
      "_________________________________________________________________\n",
      "zero_padding2d_50 (ZeroPaddi (None, 16, 16, 512)       0         \n",
      "_________________________________________________________________\n",
      "conv2d_59 (Conv2D)           (None, 14, 14, 512)       2359808   \n",
      "_________________________________________________________________\n",
      "zero_padding2d_51 (ZeroPaddi (None, 16, 16, 512)       0         \n",
      "_________________________________________________________________\n",
      "conv2d_60 (Conv2D)           (None, 14, 14, 512)       2359808   \n",
      "_________________________________________________________________\n",
      "max_pooling2d_19 (MaxPooling (None, 7, 7, 512)         0         \n",
      "_________________________________________________________________\n",
      "global_average_pooling2d_3 ( (None, 512)               0         \n",
      "_________________________________________________________________\n",
      "dense_9 (Dense)              (None, 1024)              525312    \n",
      "_________________________________________________________________\n",
      "dropout_14 (Dropout)         (None, 1024)              0         \n",
      "_________________________________________________________________\n",
      "dense_10 (Dense)             (None, 128)               131200    \n",
      "_________________________________________________________________\n",
      "dropout_15 (Dropout)         (None, 128)               0         \n",
      "_________________________________________________________________\n",
      "dense_11 (Dense)             (None, 1)                 129       \n",
      "=================================================================\n",
      "Total params: 15,371,329\n",
      "Trainable params: 13,635,841\n",
      "Non-trainable params: 1,735,488\n",
      "_________________________________________________________________\n"
     ]
    }
   ],
   "source": [
    "model = Sequential()\n",
    "model.add(ZeroPadding2D((1,1),input_shape=(224,224, 3)))\n",
    "model.add(Convolution2D(64, (3, 3), activation='relu'))\n",
    "model.add(ZeroPadding2D((1,1)))\n",
    "model.add(Convolution2D(64, (3, 3), activation='relu'))\n",
    "model.add(MaxPooling2D((2,2), strides=(2,2)))\n",
    " \n",
    "model.add(ZeroPadding2D((1,1)))\n",
    "model.add(Convolution2D(128, (3, 3), activation='relu'))\n",
    "model.add(ZeroPadding2D((1,1)))\n",
    "model.add(Convolution2D(128, (3, 3), activation='relu'))\n",
    "model.add(MaxPooling2D((2,2), strides=(2,2)))\n",
    " \n",
    "model.add(ZeroPadding2D((1,1)))\n",
    "model.add(Convolution2D(256, (3, 3), activation='relu'))\n",
    "model.add(ZeroPadding2D((1,1)))\n",
    "model.add(Convolution2D(256, (3, 3), activation='relu'))\n",
    "model.add(ZeroPadding2D((1,1)))\n",
    "model.add(Convolution2D(256, (3, 3), activation='relu'))\n",
    "model.add(MaxPooling2D((2,2), strides=(2,2)))\n",
    " \n",
    "model.add(ZeroPadding2D((1,1)))\n",
    "model.add(Convolution2D(512, (3, 3), activation='relu'))\n",
    "model.add(ZeroPadding2D((1,1)))\n",
    "model.add(Convolution2D(512, (3, 3), activation='relu'))\n",
    "model.add(ZeroPadding2D((1,1)))\n",
    "model.add(Convolution2D(512, (3, 3), activation='relu'))\n",
    "model.add(MaxPooling2D((2,2), strides=(2,2)))\n",
    " \n",
    "model.add(ZeroPadding2D((1,1)))\n",
    "model.add(Convolution2D(512, (3, 3), activation='relu'))\n",
    "model.add(ZeroPadding2D((1,1)))\n",
    "model.add(Convolution2D(512, (3, 3), activation='relu'))\n",
    "model.add(ZeroPadding2D((1,1)))\n",
    "model.add(Convolution2D(512, (3, 3), activation='relu'))\n",
    "model.add(MaxPooling2D((2,2), strides=(2,2)))\n",
    " \n",
    "model.add(Convolution2D(4096, (7, 7), activation='relu'))\n",
    "model.add(Dropout(0.5))\n",
    "model.add(Convolution2D(4096, (1, 1), activation='relu'))\n",
    "model.add(Dropout(0.5))\n",
    "model.add(Convolution2D(2622, (1, 1)))\n",
    "model.add(Flatten())\n",
    "\n",
    "model.load_weights('../weights/vgg_face_weights.h5')\n",
    "\n",
    "model.pop()\n",
    "model.pop()\n",
    "model.pop()\n",
    "model.pop()\n",
    "model.pop()\n",
    "model.pop()\n",
    "\n",
    "model.add(GlobalAveragePooling2D())\n",
    "model.add(Dense(1024, activation = 'relu'))\n",
    "model.add(Dropout(0.5))\n",
    "model.add(Dense(128, activation = 'relu'))\n",
    "model.add(Dropout(0.5))\n",
    "model.add(Dense(1, activation= 'linear'))\n",
    "\n",
    "# model.load_weights('../weights/vggface_female_age.h5')\n",
    "\n",
    "for layer in model.layers[:17]:\n",
    "    layer.trainable = False\n",
    "\n",
    "model.summary()"
   ]
  },
  {
   "cell_type": "code",
   "execution_count": 6,
   "metadata": {},
   "outputs": [],
   "source": [
    "opt = keras.optimizers.Adam()\n",
    "model.compile(optimizer=opt, loss='mean_absolute_error', metrics=['mse'])\n",
    "\n",
    "checkpoint = ModelCheckpoint('vggface_female_age.h5', monitor = 'val_loss', \n",
    "                             mode = 'min', save_best_only = True, verbose = 1)\n",
    "\n",
    "earlystopping = EarlyStopping(monitor= 'val_loss', min_delta= 0, patience = 5, \n",
    "                              verbose = 1, restore_best_weights= True)"
   ]
  },
  {
   "cell_type": "code",
   "execution_count": 18,
   "metadata": {},
   "outputs": [
    {
     "name": "stdout",
     "output_type": "stream",
     "text": [
      "Found 50948 images belonging to 26 classes.\n",
      "Found 12725 images belonging to 26 classes.\n"
     ]
    }
   ],
   "source": [
    "imggen = ImageDataGenerator(preprocessing_function=preprocess_input, rescale=1/255.0,validation_split=0.2)\n",
    "\n",
    "batch_size=32\n",
    "filepath = '/home/ubuntu/data/AFAD-Full/AFAD_gender/female'\n",
    "train_datagen_age = imggen.flow_from_directory(filepath, target_size=(224,224),batch_size=batch_size, \n",
    "                                           class_mode = 'sparse',subset='training', seed = 1)\n",
    "validation_datagen_age = imggen.flow_from_directory(filepath, target_size=(224,224), batch_size=batch_size\n",
    "                                                , class_mode = 'sparse', subset='validation', seed = 1)"
   ]
  },
  {
   "cell_type": "code",
   "execution_count": 24,
   "metadata": {},
   "outputs": [
    {
     "data": {
      "text/plain": [
       "4.791327847199803"
      ]
     },
     "execution_count": 24,
     "metadata": {},
     "output_type": "execute_result"
    }
   ],
   "source": [
    "# Find baseline - Always predict the mean age\n",
    "y_train = np.array([])\n",
    "for i in range(len(train_datagen_age)):\n",
    "    y_train = np.append(y_train, train_datagen_age[i][1])\n",
    "    \n",
    "y_test = np.array([])\n",
    "for i in range(len(validation_datagen_age)):\n",
    "    y_test = np.append(y_test, validation_datagen_age[i][1])\n",
    "    \n",
    "mean_age_female = np.mean(y_train)\n",
    "y_pred = np.full(y_test.shape, mean_age_female)\n",
    "\n",
    "mean_absolute_error(y_test, y_pred)"
   ]
  },
  {
   "cell_type": "code",
   "execution_count": 9,
   "metadata": {},
   "outputs": [
    {
     "name": "stdout",
     "output_type": "stream",
     "text": [
      "WARNING:tensorflow:From /home/ubuntu/anaconda3/envs/amazonei_tensorflow_p36/lib/python3.6/site-packages/tensorflow/python/ops/math_ops.py:3066: to_int32 (from tensorflow.python.ops.math_ops) is deprecated and will be removed in a future version.\n",
      "Instructions for updating:\n",
      "Use tf.cast instead.\n",
      "Epoch 1/10\n",
      "398/398 [==============================] - 1363s 3s/step - loss: 4.0468 - mean_squared_error: 28.1919\n",
      "\n",
      "Epoch 00001: val_loss improved from inf to 4.04681, saving model to age_estimator_vgg.h5\n",
      " - 10135s - loss: 4.5960 - mean_squared_error: 40.8532 - val_loss: 4.0468 - val_mean_squared_error: 28.1919\n",
      "Epoch 2/10\n",
      "398/398 [==============================] - 1359s 3s/step - loss: 3.8389 - mean_squared_error: 25.9965\n",
      "\n",
      "Epoch 00002: val_loss improved from 4.04681 to 3.83892, saving model to age_estimator_vgg.h5\n",
      " - 10098s - loss: 4.1389 - mean_squared_error: 31.1834 - val_loss: 3.8389 - val_mean_squared_error: 25.9965\n",
      "Epoch 3/10\n",
      "398/398 [==============================] - 1361s 3s/step - loss: 4.0045 - mean_squared_error: 32.9711\n",
      "\n",
      "Epoch 00003: val_loss did not improve from 3.83892\n",
      " - 10102s - loss: 3.9837 - mean_squared_error: 29.0088 - val_loss: 4.0045 - val_mean_squared_error: 32.9711\n",
      "Epoch 4/10\n",
      "398/398 [==============================] - 1361s 3s/step - loss: 3.9933 - mean_squared_error: 27.6760\n",
      "\n",
      "Epoch 00004: val_loss did not improve from 3.83892\n",
      " - 10108s - loss: 3.8856 - mean_squared_error: 27.6041 - val_loss: 3.9933 - val_mean_squared_error: 27.6760\n",
      "Epoch 5/10\n",
      "398/398 [==============================] - 1362s 3s/step - loss: 3.7355 - mean_squared_error: 24.8360\n",
      "\n",
      "Epoch 00005: val_loss improved from 3.83892 to 3.73554, saving model to age_estimator_vgg.h5\n",
      " - 10107s - loss: 3.7944 - mean_squared_error: 26.5867 - val_loss: 3.7355 - val_mean_squared_error: 24.8360\n",
      "Epoch 6/10\n",
      "398/398 [==============================] - 1361s 3s/step - loss: 3.6872 - mean_squared_error: 25.9568\n",
      "\n",
      "Epoch 00006: val_loss improved from 3.73554 to 3.68721, saving model to age_estimator_vgg.h5\n",
      " - 10103s - loss: 3.7156 - mean_squared_error: 25.4565 - val_loss: 3.6872 - val_mean_squared_error: 25.9568\n",
      "Epoch 7/10\n",
      "398/398 [==============================] - 1353s 3s/step - loss: 3.7654 - mean_squared_error: 28.4794\n",
      "\n",
      "Epoch 00007: val_loss did not improve from 3.68721\n",
      " - 10097s - loss: 3.6381 - mean_squared_error: 24.6812 - val_loss: 3.7654 - val_mean_squared_error: 28.4794\n",
      "Epoch 8/10\n",
      "398/398 [==============================] - 1356s 3s/step - loss: 3.6279 - mean_squared_error: 24.2851\n",
      "\n",
      "Epoch 00008: val_loss improved from 3.68721 to 3.62789, saving model to age_estimator_vgg.h5\n",
      " - 10103s - loss: 3.5871 - mean_squared_error: 24.0471 - val_loss: 3.6279 - val_mean_squared_error: 24.2851\n",
      "Epoch 9/10\n",
      "398/398 [==============================] - 1358s 3s/step - loss: 3.6264 - mean_squared_error: 24.4820\n",
      "\n",
      "Epoch 00009: val_loss improved from 3.62789 to 3.62644, saving model to age_estimator_vgg.h5\n",
      " - 10108s - loss: 3.4893 - mean_squared_error: 22.8232 - val_loss: 3.6264 - val_mean_squared_error: 24.4820\n",
      "Epoch 10/10\n",
      "398/398 [==============================] - 1356s 3s/step - loss: 3.8275 - mean_squared_error: 25.2600\n",
      "\n",
      "Epoch 00010: val_loss did not improve from 3.62644\n",
      " - 10108s - loss: 3.4054 - mean_squared_error: 21.9138 - val_loss: 3.8275 - val_mean_squared_error: 25.2600\n"
     ]
    }
   ],
   "source": [
    "# Use VGGFace\n",
    "history_vgg_age = model.fit(train_datagen_age, batch_size=8, epochs=10, verbose=2,\n",
    "                    validation_data = validation_datagen_age,callbacks=[earlystopping, checkpoint])"
   ]
  },
  {
   "cell_type": "code",
   "execution_count": 10,
   "metadata": {},
   "outputs": [
    {
     "data": {
      "text/plain": [
       "{'loss': [4.594972383529544,\n",
       "  4.139930271059731,\n",
       "  3.9841484726247454,\n",
       "  3.882979612761524,\n",
       "  3.7948019988422463,\n",
       "  3.715315511801876,\n",
       "  3.638262930307226,\n",
       "  3.587931131000673,\n",
       "  3.4889699666814753,\n",
       "  3.4059144682568623],\n",
       " 'mean_squared_error': [40.85322,\n",
       "  31.183363,\n",
       "  29.008808,\n",
       "  27.60406,\n",
       "  26.586706,\n",
       "  25.456522,\n",
       "  24.681183,\n",
       "  24.047052,\n",
       "  22.823162,\n",
       "  21.91384],\n",
       " 'val_loss': [4.046809148548835,\n",
       "  3.8389160465355494,\n",
       "  4.004467934220281,\n",
       "  3.9933316132531096,\n",
       "  3.735540552354937,\n",
       "  3.687210883327465,\n",
       "  3.765396094202396,\n",
       "  3.6278933050045414,\n",
       "  3.626438824974712,\n",
       "  3.827487324949485],\n",
       " 'val_mean_squared_error': [28.191942,\n",
       "  25.99647,\n",
       "  32.971127,\n",
       "  27.676037,\n",
       "  24.835972,\n",
       "  25.956825,\n",
       "  28.479397,\n",
       "  24.285143,\n",
       "  24.481995,\n",
       "  25.25996]}"
      ]
     },
     "execution_count": 10,
     "metadata": {},
     "output_type": "execute_result"
    }
   ],
   "source": [
    "history_vgg_age.history"
   ]
  },
  {
   "cell_type": "code",
   "execution_count": 12,
   "metadata": {},
   "outputs": [
    {
     "data": {
      "image/png": "[encoded data removed]",
      "text/plain": [
       "<Figure size 432x288 with 1 Axes>"
      ]
     },
     "metadata": {},
     "output_type": "display_data"
    }
   ],
   "source": [
    "graph_MAE(history_vgg_age, 'VGGFace Female MAE')"
   ]
  },
  {
   "cell_type": "markdown",
   "metadata": {},
   "source": [
    "### Male"
   ]
  },
  {
   "cell_type": "code",
   "execution_count": 38,
   "metadata": {},
   "outputs": [
    {
     "name": "stdout",
     "output_type": "stream",
     "text": [
      "_________________________________________________________________\n",
      "Layer (type)                 Output Shape              Param #   \n",
      "=================================================================\n",
      "zero_padding2d_52 (ZeroPaddi (None, 226, 226, 3)       0         \n",
      "_________________________________________________________________\n",
      "conv2d_64 (Conv2D)           (None, 224, 224, 64)      1792      \n",
      "_________________________________________________________________\n",
      "zero_padding2d_53 (ZeroPaddi (None, 226, 226, 64)      0         \n",
      "_________________________________________________________________\n",
      "conv2d_65 (Conv2D)           (None, 224, 224, 64)      36928     \n",
      "_________________________________________________________________\n",
      "max_pooling2d_20 (MaxPooling (None, 112, 112, 64)      0         \n",
      "_________________________________________________________________\n",
      "zero_padding2d_54 (ZeroPaddi (None, 114, 114, 64)      0         \n",
      "_________________________________________________________________\n",
      "conv2d_66 (Conv2D)           (None, 112, 112, 128)     73856     \n",
      "_________________________________________________________________\n",
      "zero_padding2d_55 (ZeroPaddi (None, 114, 114, 128)     0         \n",
      "_________________________________________________________________\n",
      "conv2d_67 (Conv2D)           (None, 112, 112, 128)     147584    \n",
      "_________________________________________________________________\n",
      "max_pooling2d_21 (MaxPooling (None, 56, 56, 128)       0         \n",
      "_________________________________________________________________\n",
      "zero_padding2d_56 (ZeroPaddi (None, 58, 58, 128)       0         \n",
      "_________________________________________________________________\n",
      "conv2d_68 (Conv2D)           (None, 56, 56, 256)       295168    \n",
      "_________________________________________________________________\n",
      "zero_padding2d_57 (ZeroPaddi (None, 58, 58, 256)       0         \n",
      "_________________________________________________________________\n",
      "conv2d_69 (Conv2D)           (None, 56, 56, 256)       590080    \n",
      "_________________________________________________________________\n",
      "zero_padding2d_58 (ZeroPaddi (None, 58, 58, 256)       0         \n",
      "_________________________________________________________________\n",
      "conv2d_70 (Conv2D)           (None, 56, 56, 256)       590080    \n",
      "_________________________________________________________________\n",
      "max_pooling2d_22 (MaxPooling (None, 28, 28, 256)       0         \n",
      "_________________________________________________________________\n",
      "zero_padding2d_59 (ZeroPaddi (None, 30, 30, 256)       0         \n",
      "_________________________________________________________________\n",
      "conv2d_71 (Conv2D)           (None, 28, 28, 512)       1180160   \n",
      "_________________________________________________________________\n",
      "zero_padding2d_60 (ZeroPaddi (None, 30, 30, 512)       0         \n",
      "_________________________________________________________________\n",
      "conv2d_72 (Conv2D)           (None, 28, 28, 512)       2359808   \n",
      "_________________________________________________________________\n",
      "zero_padding2d_61 (ZeroPaddi (None, 30, 30, 512)       0         \n",
      "_________________________________________________________________\n",
      "conv2d_73 (Conv2D)           (None, 28, 28, 512)       2359808   \n",
      "_________________________________________________________________\n",
      "max_pooling2d_23 (MaxPooling (None, 14, 14, 512)       0         \n",
      "_________________________________________________________________\n",
      "zero_padding2d_62 (ZeroPaddi (None, 16, 16, 512)       0         \n",
      "_________________________________________________________________\n",
      "conv2d_74 (Conv2D)           (None, 14, 14, 512)       2359808   \n",
      "_________________________________________________________________\n",
      "zero_padding2d_63 (ZeroPaddi (None, 16, 16, 512)       0         \n",
      "_________________________________________________________________\n",
      "conv2d_75 (Conv2D)           (None, 14, 14, 512)       2359808   \n",
      "_________________________________________________________________\n",
      "zero_padding2d_64 (ZeroPaddi (None, 16, 16, 512)       0         \n",
      "_________________________________________________________________\n",
      "conv2d_76 (Conv2D)           (None, 14, 14, 512)       2359808   \n",
      "_________________________________________________________________\n",
      "max_pooling2d_24 (MaxPooling (None, 7, 7, 512)         0         \n",
      "_________________________________________________________________\n",
      "global_average_pooling2d_4 ( (None, 512)               0         \n",
      "_________________________________________________________________\n",
      "dense_12 (Dense)             (None, 1024)              525312    \n",
      "_________________________________________________________________\n",
      "dropout_18 (Dropout)         (None, 1024)              0         \n",
      "_________________________________________________________________\n",
      "dense_13 (Dense)             (None, 128)               131200    \n",
      "_________________________________________________________________\n",
      "dropout_19 (Dropout)         (None, 128)               0         \n",
      "_________________________________________________________________\n",
      "dense_14 (Dense)             (None, 1)                 129       \n",
      "=================================================================\n",
      "Total params: 15,371,329\n",
      "Trainable params: 13,635,841\n",
      "Non-trainable params: 1,735,488\n",
      "_________________________________________________________________\n"
     ]
    }
   ],
   "source": [
    "model_male = Sequential()\n",
    "model_male.add(ZeroPadding2D((1,1),input_shape=(224,224, 3)))\n",
    "model_male.add(Convolution2D(64, (3, 3), activation='relu'))\n",
    "model_male.add(ZeroPadding2D((1,1)))\n",
    "model_male.add(Convolution2D(64, (3, 3), activation='relu'))\n",
    "model_male.add(MaxPooling2D((2,2), strides=(2,2)))\n",
    " \n",
    "model_male.add(ZeroPadding2D((1,1)))\n",
    "model_male.add(Convolution2D(128, (3, 3), activation='relu'))\n",
    "model_male.add(ZeroPadding2D((1,1)))\n",
    "model_male.add(Convolution2D(128, (3, 3), activation='relu'))\n",
    "model_male.add(MaxPooling2D((2,2), strides=(2,2)))\n",
    " \n",
    "model_male.add(ZeroPadding2D((1,1)))\n",
    "model_male.add(Convolution2D(256, (3, 3), activation='relu'))\n",
    "model_male.add(ZeroPadding2D((1,1)))\n",
    "model_male.add(Convolution2D(256, (3, 3), activation='relu'))\n",
    "model_male.add(ZeroPadding2D((1,1)))\n",
    "model_male.add(Convolution2D(256, (3, 3), activation='relu'))\n",
    "model_male.add(MaxPooling2D((2,2), strides=(2,2)))\n",
    " \n",
    "model_male.add(ZeroPadding2D((1,1)))\n",
    "model_male.add(Convolution2D(512, (3, 3), activation='relu'))\n",
    "model_male.add(ZeroPadding2D((1,1)))\n",
    "model_male.add(Convolution2D(512, (3, 3), activation='relu'))\n",
    "model_male.add(ZeroPadding2D((1,1)))\n",
    "model_male.add(Convolution2D(512, (3, 3), activation='relu'))\n",
    "model_male.add(MaxPooling2D((2,2), strides=(2,2)))\n",
    " \n",
    "model_male.add(ZeroPadding2D((1,1)))\n",
    "model_male.add(Convolution2D(512, (3, 3), activation='relu'))\n",
    "model_male.add(ZeroPadding2D((1,1)))\n",
    "model_male.add(Convolution2D(512, (3, 3), activation='relu'))\n",
    "model_male.add(ZeroPadding2D((1,1)))\n",
    "model_male.add(Convolution2D(512, (3, 3), activation='relu'))\n",
    "model_male.add(MaxPooling2D((2,2), strides=(2,2)))\n",
    " \n",
    "model_male.add(Convolution2D(4096, (7, 7), activation='relu'))\n",
    "model_male.add(Dropout(0.5))\n",
    "model_male.add(Convolution2D(4096, (1, 1), activation='relu'))\n",
    "model_male.add(Dropout(0.5))\n",
    "model_male.add(Convolution2D(2622, (1, 1)))\n",
    "model_male.add(Flatten())\n",
    "\n",
    "model_male.load_weights('../weights/vgg_face_weights.h5')\n",
    "\n",
    "model_male.pop()\n",
    "model_male.pop()\n",
    "model_male.pop()\n",
    "model_male.pop()\n",
    "model_male.pop()\n",
    "model_male.pop()\n",
    "\n",
    "model_male.add(GlobalAveragePooling2D())\n",
    "model_male.add(Dense(1024, activation = 'relu'))\n",
    "model_male.add(Dropout(0.5))\n",
    "model_male.add(Dense(128, activation = 'relu'))\n",
    "model_male.add(Dropout(0.5))\n",
    "model_male.add(Dense(1, activation= 'linear'))\n",
    "\n",
    "# model_male.load_weights('../weights/vggface_male_age.h5')\n",
    "\n",
    "for layer in model_male.layers[:17]:\n",
    "    layer.trainable = False\n",
    "    \n",
    "model_male.summary()    "
   ]
  },
  {
   "cell_type": "code",
   "execution_count": 8,
   "metadata": {},
   "outputs": [],
   "source": [
    "opt = keras.optimizers.Adam()\n",
    "model_male.compile(optimizer=opt, loss='mean_absolute_error', metrics=['mse'])\n",
    "\n",
    "checkpoint = ModelCheckpoint('vggface_male_age.h5', monitor = 'val_loss', \n",
    "                             mode = 'min', save_best_only = True, verbose = 1)\n",
    "\n",
    "earlystopping = EarlyStopping(monitor= 'val_loss', min_delta= 0, patience = 5, \n",
    "                              verbose = 1, restore_best_weights= True)"
   ]
  },
  {
   "cell_type": "code",
   "execution_count": 25,
   "metadata": {},
   "outputs": [
    {
     "name": "stdout",
     "output_type": "stream",
     "text": [
      "Found 80608 images belonging to 26 classes.\n",
      "Found 20137 images belonging to 26 classes.\n"
     ]
    }
   ],
   "source": [
    "imggen = ImageDataGenerator(preprocessing_function=preprocess_input, rescale=1/255.0,validation_split=0.2)\n",
    "\n",
    "batch_size=32\n",
    "filepath = '/home/ubuntu/data/AFAD-Full/AFAD_gender/male'\n",
    "train_datagen_age_male = imggen.flow_from_directory(filepath, target_size=(224,224),batch_size=batch_size, \n",
    "                                           class_mode = 'sparse',subset='training', seed = 1)\n",
    "validation_datagen_age_male = imggen.flow_from_directory(filepath, target_size=(224,224), batch_size=batch_size\n",
    "                                                , class_mode = 'sparse', subset='validation', seed = 1)"
   ]
  },
  {
   "cell_type": "code",
   "execution_count": 26,
   "metadata": {},
   "outputs": [
    {
     "data": {
      "text/plain": [
       "5.131449115785926"
      ]
     },
     "execution_count": 26,
     "metadata": {},
     "output_type": "execute_result"
    }
   ],
   "source": [
    "# Find baseline - Always predict the mean age\n",
    "y_train = np.array([])\n",
    "for i in range(len(train_datagen_age_male)):\n",
    "    y_train = np.append(y_train, train_datagen_age_male[i][1])\n",
    "    \n",
    "y_test = np.array([])\n",
    "for i in range(len(validation_datagen_age_male)):\n",
    "    y_test = np.append(y_test, validation_datagen_age_male[i][1])\n",
    "    \n",
    "mean_age_male = np.mean(y_train)\n",
    "y_pred = np.full(y_test.shape, mean_age_male)\n",
    "\n",
    "mean_absolute_error(y_test, y_pred)"
   ]
  },
  {
   "cell_type": "code",
   "execution_count": 10,
   "metadata": {},
   "outputs": [
    {
     "name": "stdout",
     "output_type": "stream",
     "text": [
      "WARNING:tensorflow:From /home/ubuntu/anaconda3/envs/amazonei_tensorflow_p36/lib/python3.6/site-packages/tensorflow/python/ops/math_ops.py:3066: to_int32 (from tensorflow.python.ops.math_ops) is deprecated and will be removed in a future version.\n",
      "Instructions for updating:\n",
      "Use tf.cast instead.\n",
      "Epoch 1/10\n",
      "630/630 [==============================] - 2171s 3s/step - loss: 4.5542 - mean_squared_error: 36.8207\n",
      "\n",
      "Epoch 00001: val_loss improved from inf to 4.55421, saving model to age_estimator_vgg_male.h5\n",
      " - 16130s - loss: 4.9118 - mean_squared_error: 47.7102 - val_loss: 4.5542 - val_mean_squared_error: 36.8207\n",
      "Epoch 2/10\n",
      "630/630 [==============================] - 2171s 3s/step - loss: 3.9996 - mean_squared_error: 27.8735\n",
      "\n",
      "Epoch 00002: val_loss improved from 4.55421 to 3.99964, saving model to age_estimator_vgg_male.h5\n",
      " - 16112s - loss: 4.2595 - mean_squared_error: 30.4921 - val_loss: 3.9996 - val_mean_squared_error: 27.8735\n",
      "Epoch 3/10\n",
      "630/630 [==============================] - 2175s 3s/step - loss: 4.0311 - mean_squared_error: 24.8747\n",
      "\n",
      "Epoch 00003: val_loss did not improve from 3.99964\n",
      " - 16096s - loss: 4.0392 - mean_squared_error: 27.8178 - val_loss: 4.0311 - val_mean_squared_error: 24.8747\n",
      "Epoch 4/10\n",
      "630/630 [==============================] - 2172s 3s/step - loss: 3.7472 - mean_squared_error: 24.7119\n",
      "\n",
      "Epoch 00004: val_loss improved from 3.99964 to 3.74719, saving model to age_estimator_vgg_male.h5\n",
      " - 16102s - loss: 3.8796 - mean_squared_error: 25.9392 - val_loss: 3.7472 - val_mean_squared_error: 24.7119\n",
      "Epoch 5/10\n",
      "630/630 [==============================] - 2175s 3s/step - loss: 3.6062 - mean_squared_error: 22.3691\n",
      "\n",
      "Epoch 00005: val_loss improved from 3.74719 to 3.60623, saving model to age_estimator_vgg_male.h5\n",
      " - 16107s - loss: 3.7620 - mean_squared_error: 24.6484 - val_loss: 3.6062 - val_mean_squared_error: 22.3691\n",
      "Epoch 6/10\n",
      "630/630 [==============================] - 2174s 3s/step - loss: 3.5806 - mean_squared_error: 21.4636\n",
      "\n",
      "Epoch 00006: val_loss improved from 3.60623 to 3.58060, saving model to age_estimator_vgg_male.h5\n",
      " - 16103s - loss: 3.6710 - mean_squared_error: 23.7064 - val_loss: 3.5806 - val_mean_squared_error: 21.4636\n",
      "Epoch 7/10\n"
     ]
    },
    {
     "ename": "KeyboardInterrupt",
     "evalue": "",
     "output_type": "error",
     "traceback": [
      "\u001b[0;31m---------------------------------------------------------------------------\u001b[0m",
      "\u001b[0;31mKeyboardInterrupt\u001b[0m                         Traceback (most recent call last)",
      "\u001b[0;32m<ipython-input-10-2b6fe1536ad2>\u001b[0m in \u001b[0;36m<module>\u001b[0;34m()\u001b[0m\n\u001b[1;32m      1\u001b[0m history_vgg_age_male = model_male.fit(train_datagen_age, batch_size=4, epochs=10, verbose=2,\n\u001b[0;32m----> 2\u001b[0;31m                     validation_data = validation_datagen_age,callbacks=[earlystopping, checkpoint])\n\u001b[0m",
      "\u001b[0;32m~/anaconda3/envs/amazonei_tensorflow_p36/lib/python3.6/site-packages/tensorflow/python/keras/engine/training.py\u001b[0m in \u001b[0;36mfit\u001b[0;34m(self, x, y, batch_size, epochs, verbose, callbacks, validation_split, validation_data, shuffle, class_weight, sample_weight, initial_epoch, steps_per_epoch, validation_steps, max_queue_size, workers, use_multiprocessing, **kwargs)\u001b[0m\n\u001b[1;32m    735\u001b[0m           \u001b[0muse_multiprocessing\u001b[0m\u001b[0;34m=\u001b[0m\u001b[0muse_multiprocessing\u001b[0m\u001b[0;34m,\u001b[0m\u001b[0;34m\u001b[0m\u001b[0m\n\u001b[1;32m    736\u001b[0m           \u001b[0mshuffle\u001b[0m\u001b[0;34m=\u001b[0m\u001b[0mshuffle\u001b[0m\u001b[0;34m,\u001b[0m\u001b[0;34m\u001b[0m\u001b[0m\n\u001b[0;32m--> 737\u001b[0;31m           initial_epoch=initial_epoch)\n\u001b[0m\u001b[1;32m    738\u001b[0m \u001b[0;34m\u001b[0m\u001b[0m\n\u001b[1;32m    739\u001b[0m     \u001b[0;31m# Legacy support\u001b[0m\u001b[0;34m\u001b[0m\u001b[0;34m\u001b[0m\u001b[0m\n",
      "\u001b[0;32m~/anaconda3/envs/amazonei_tensorflow_p36/lib/python3.6/site-packages/tensorflow/python/keras/engine/training.py\u001b[0m in \u001b[0;36mfit_generator\u001b[0;34m(self, generator, steps_per_epoch, epochs, verbose, callbacks, validation_data, validation_steps, class_weight, max_queue_size, workers, use_multiprocessing, shuffle, initial_epoch)\u001b[0m\n\u001b[1;32m   1424\u001b[0m         \u001b[0muse_multiprocessing\u001b[0m\u001b[0;34m=\u001b[0m\u001b[0muse_multiprocessing\u001b[0m\u001b[0;34m,\u001b[0m\u001b[0;34m\u001b[0m\u001b[0m\n\u001b[1;32m   1425\u001b[0m         \u001b[0mshuffle\u001b[0m\u001b[0;34m=\u001b[0m\u001b[0mshuffle\u001b[0m\u001b[0;34m,\u001b[0m\u001b[0;34m\u001b[0m\u001b[0m\n\u001b[0;32m-> 1426\u001b[0;31m         initial_epoch=initial_epoch)\n\u001b[0m\u001b[1;32m   1427\u001b[0m \u001b[0;34m\u001b[0m\u001b[0m\n\u001b[1;32m   1428\u001b[0m   def evaluate_generator(self,\n",
      "\u001b[0;32m~/anaconda3/envs/amazonei_tensorflow_p36/lib/python3.6/site-packages/tensorflow/python/keras/engine/training_generator.py\u001b[0m in \u001b[0;36mmodel_iteration\u001b[0;34m(model, data, steps_per_epoch, epochs, verbose, callbacks, validation_data, validation_steps, class_weight, max_queue_size, workers, use_multiprocessing, shuffle, initial_epoch, mode, batch_size, **kwargs)\u001b[0m\n\u001b[1;32m    189\u001b[0m       \u001b[0mprogbar\u001b[0m\u001b[0;34m.\u001b[0m\u001b[0mon_batch_begin\u001b[0m\u001b[0;34m(\u001b[0m\u001b[0mstep\u001b[0m\u001b[0;34m,\u001b[0m \u001b[0mbatch_logs\u001b[0m\u001b[0;34m)\u001b[0m\u001b[0;34m\u001b[0m\u001b[0m\n\u001b[1;32m    190\u001b[0m \u001b[0;34m\u001b[0m\u001b[0m\n\u001b[0;32m--> 191\u001b[0;31m       \u001b[0mbatch_outs\u001b[0m \u001b[0;34m=\u001b[0m \u001b[0mbatch_function\u001b[0m\u001b[0;34m(\u001b[0m\u001b[0;34m*\u001b[0m\u001b[0mbatch_data\u001b[0m\u001b[0;34m)\u001b[0m\u001b[0;34m\u001b[0m\u001b[0m\n\u001b[0m\u001b[1;32m    192\u001b[0m       \u001b[0;32mif\u001b[0m \u001b[0;32mnot\u001b[0m \u001b[0misinstance\u001b[0m\u001b[0;34m(\u001b[0m\u001b[0mbatch_outs\u001b[0m\u001b[0;34m,\u001b[0m \u001b[0mlist\u001b[0m\u001b[0;34m)\u001b[0m\u001b[0;34m:\u001b[0m\u001b[0;34m\u001b[0m\u001b[0m\n\u001b[1;32m    193\u001b[0m         \u001b[0mbatch_outs\u001b[0m \u001b[0;34m=\u001b[0m \u001b[0;34m[\u001b[0m\u001b[0mbatch_outs\u001b[0m\u001b[0;34m]\u001b[0m\u001b[0;34m\u001b[0m\u001b[0m\n",
      "\u001b[0;32m~/anaconda3/envs/amazonei_tensorflow_p36/lib/python3.6/site-packages/tensorflow/python/keras/engine/training.py\u001b[0m in \u001b[0;36mtrain_on_batch\u001b[0;34m(self, x, y, sample_weight, class_weight, reset_metrics)\u001b[0m\n\u001b[1;32m   1189\u001b[0m       \u001b[0;32melse\u001b[0m\u001b[0;34m:\u001b[0m\u001b[0;34m\u001b[0m\u001b[0m\n\u001b[1;32m   1190\u001b[0m         \u001b[0mself\u001b[0m\u001b[0;34m.\u001b[0m\u001b[0m_make_fit_function\u001b[0m\u001b[0;34m(\u001b[0m\u001b[0;34m)\u001b[0m\u001b[0;34m\u001b[0m\u001b[0m\n\u001b[0;32m-> 1191\u001b[0;31m         \u001b[0moutputs\u001b[0m \u001b[0;34m=\u001b[0m \u001b[0mself\u001b[0m\u001b[0;34m.\u001b[0m\u001b[0m_fit_function\u001b[0m\u001b[0;34m(\u001b[0m\u001b[0mins\u001b[0m\u001b[0;34m)\u001b[0m  \u001b[0;31m# pylint: disable=not-callable\u001b[0m\u001b[0;34m\u001b[0m\u001b[0m\n\u001b[0m\u001b[1;32m   1192\u001b[0m \u001b[0;34m\u001b[0m\u001b[0m\n\u001b[1;32m   1193\u001b[0m     \u001b[0;32mif\u001b[0m \u001b[0mreset_metrics\u001b[0m\u001b[0;34m:\u001b[0m\u001b[0;34m\u001b[0m\u001b[0m\n",
      "\u001b[0;32m~/anaconda3/envs/amazonei_tensorflow_p36/lib/python3.6/site-packages/tensorflow/python/keras/backend.py\u001b[0m in \u001b[0;36m__call__\u001b[0;34m(self, inputs)\u001b[0m\n\u001b[1;32m   3074\u001b[0m \u001b[0;34m\u001b[0m\u001b[0m\n\u001b[1;32m   3075\u001b[0m     fetched = self._callable_fn(*array_vals,\n\u001b[0;32m-> 3076\u001b[0;31m                                 run_metadata=self.run_metadata)\n\u001b[0m\u001b[1;32m   3077\u001b[0m     \u001b[0mself\u001b[0m\u001b[0;34m.\u001b[0m\u001b[0m_call_fetch_callbacks\u001b[0m\u001b[0;34m(\u001b[0m\u001b[0mfetched\u001b[0m\u001b[0;34m[\u001b[0m\u001b[0;34m-\u001b[0m\u001b[0mlen\u001b[0m\u001b[0;34m(\u001b[0m\u001b[0mself\u001b[0m\u001b[0;34m.\u001b[0m\u001b[0m_fetches\u001b[0m\u001b[0;34m)\u001b[0m\u001b[0;34m:\u001b[0m\u001b[0;34m]\u001b[0m\u001b[0;34m)\u001b[0m\u001b[0;34m\u001b[0m\u001b[0m\n\u001b[1;32m   3078\u001b[0m     return nest.pack_sequence_as(self._outputs_structure,\n",
      "\u001b[0;32m~/anaconda3/envs/amazonei_tensorflow_p36/lib/python3.6/site-packages/tensorflow/python/client/session.py\u001b[0m in \u001b[0;36m__call__\u001b[0;34m(self, *args, **kwargs)\u001b[0m\n\u001b[1;32m   1437\u001b[0m           ret = tf_session.TF_SessionRunCallable(\n\u001b[1;32m   1438\u001b[0m               \u001b[0mself\u001b[0m\u001b[0;34m.\u001b[0m\u001b[0m_session\u001b[0m\u001b[0;34m.\u001b[0m\u001b[0m_session\u001b[0m\u001b[0;34m,\u001b[0m \u001b[0mself\u001b[0m\u001b[0;34m.\u001b[0m\u001b[0m_handle\u001b[0m\u001b[0;34m,\u001b[0m \u001b[0margs\u001b[0m\u001b[0;34m,\u001b[0m \u001b[0mstatus\u001b[0m\u001b[0;34m,\u001b[0m\u001b[0;34m\u001b[0m\u001b[0m\n\u001b[0;32m-> 1439\u001b[0;31m               run_metadata_ptr)\n\u001b[0m\u001b[1;32m   1440\u001b[0m         \u001b[0;32mif\u001b[0m \u001b[0mrun_metadata\u001b[0m\u001b[0;34m:\u001b[0m\u001b[0;34m\u001b[0m\u001b[0m\n\u001b[1;32m   1441\u001b[0m           \u001b[0mproto_data\u001b[0m \u001b[0;34m=\u001b[0m \u001b[0mtf_session\u001b[0m\u001b[0;34m.\u001b[0m\u001b[0mTF_GetBuffer\u001b[0m\u001b[0;34m(\u001b[0m\u001b[0mrun_metadata_ptr\u001b[0m\u001b[0;34m)\u001b[0m\u001b[0;34m\u001b[0m\u001b[0m\n",
      "\u001b[0;31mKeyboardInterrupt\u001b[0m: "
     ]
    }
   ],
   "source": [
    "# Use VGGFace. \n",
    "history_vgg_age_male = model_male.fit(train_datagen_age_male, batch_size=4, epochs=10, verbose=2,\n",
    "                    validation_data = validation_datagen_age_male,callbacks=[earlystopping, checkpoint])"
   ]
  },
  {
   "cell_type": "markdown",
   "metadata": {},
   "source": [
    "Interrupted the kernel on purpose due to time constraint."
   ]
  },
  {
   "cell_type": "code",
   "execution_count": 13,
   "metadata": {},
   "outputs": [],
   "source": [
    "# Manually create the history log since I stopped the training\n",
    "history_vgg_age_male = {'loss': [4.9118,  4.2595, 4.0392, 3.8796, 3.7620, 3.6710],\n",
    " 'mean_squared_error': [47.7102,  30.4921, 27.8178, 25.9392, 24.6484, 23.7064],\n",
    " 'val_loss': [4.5542,  3.9996, 4.0311, 3.7472, 3.6062, 3.5806],\n",
    " 'val_mean_squared_error': [36.8207,  27.8735, 24.8747, 24.7119, 22.3691, 21.4636]}"
   ]
  },
  {
   "cell_type": "code",
   "execution_count": 17,
   "metadata": {},
   "outputs": [
    {
     "data": {
      "image/png": "[encoded data removed]",
      "text/plain": [
       "<Figure size 432x288 with 1 Axes>"
      ]
     },
     "metadata": {},
     "output_type": "display_data"
    }
   ],
   "source": [
    "graph_MAE(history_vgg_age_male, 'VGGFace Male MAE')"
   ]
  },
  {
   "cell_type": "markdown",
   "metadata": {},
   "source": [
    "### Compare models "
   ]
  },
  {
   "cell_type": "code",
   "execution_count": 43,
   "metadata": {},
   "outputs": [],
   "source": [
    "true_pred_df_male = get_ytrue_ypred(model_male,validation_datagen_age_male)\n",
    "true_pred_df_female = get_ytrue_ypred(model,validation_datagen_age)\n",
    "\n",
    "mae_female = get_average_MAE(true_pred_df=true_pred_df_female)\n",
    "mae_male = get_average_MAE(true_pred_df=true_pred_df_male)"
   ]
  },
  {
   "cell_type": "code",
   "execution_count": 44,
   "metadata": {
    "scrolled": false
   },
   "outputs": [
    {
     "data": {
      "text/plain": [
       "Text(0.5, 1.0, 'Average MAE - Male vs Female')"
      ]
     },
     "execution_count": 44,
     "metadata": {},
     "output_type": "execute_result"
    },
    {
     "data": {
      "image/png": "[encoded data removed]",
      "text/plain": [
       "<Figure size 1080x360 with 1 Axes>"
      ]
     },
     "metadata": {},
     "output_type": "display_data"
    }
   ],
   "source": [
    "fig, ax = plt.subplots(figsize = (15,5))\n",
    "ages = np.arange(15,41)\n",
    "ax.plot(ages, mae_female, color = 'mediumorchid',linewidth = 2,label = 'Female')\n",
    "ax.scatter(ages, mae_female,c='mediumorchid')\n",
    "ax.plot(ages, mae_male,color ='darkcyan' ,linewidth = 2,label = 'Male')\n",
    "ax.scatter(ages, mae_male,c='darkcyan')\n",
    "ax.set_xticks(ages)\n",
    "ax.legend()\n",
    "ax.set_xlim(left = 14.5, right = 40.5)\n",
    "ax.set_xlabel('Age')\n",
    "ax.set_ylabel('MAE')\n",
    "ax.set_title('Average MAE - Male vs Female')"
   ]
  }
 ],
 "metadata": {
  "kernelspec": {
   "display_name": "Python 3",
   "language": "python",
   "name": "python3"
  },
  "language_info": {
   "codemirror_mode": {
    "name": "ipython",
    "version": 3
   },
   "file_extension": ".py",
   "mimetype": "text/x-python",
   "name": "python",
   "nbconvert_exporter": "python",
   "pygments_lexer": "ipython3",
   "version": "3.8.5"
  }
 },
 "nbformat": 4,
 "nbformat_minor": 2
}
